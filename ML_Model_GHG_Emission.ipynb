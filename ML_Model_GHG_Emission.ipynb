{
  "cells": [
    {
      "cell_type": "code",
      "execution_count": null,
      "metadata": {
        "id": "nLukPt54gbOL"
      },
      "outputs": [],
      "source": [
        "import pandas as pd\n",
        "import numpy as np\n",
        "import matplotlib.pyplot as plt\n",
        "import seaborn as sns\n",
        "from math import sqrt\n",
        "\n",
        "from sklearn.decomposition import PCA\n",
        "\n",
        "from sklearn.linear_model import LogisticRegression\n",
        "from sklearn.linear_model import LinearRegression\n",
        "from sklearn.dummy import DummyClassifier\n",
        "from sklearn.ensemble import RandomForestClassifier\n",
        "\n",
        "from sklearn.metrics import mean_squared_error\n",
        "from sklearn.metrics import mean_absolute_error\n",
        "from sklearn.metrics import r2_score\n",
        "\n",
        "from sklearn.model_selection import GridSearchCV\n",
        "from sklearn.model_selection import cross_validate\n",
        "from sklearn.model_selection import cross_val_score\n",
        "from sklearn.model_selection import RandomizedSearchCV\n",
        "from sklearn.model_selection import train_test_split\n",
        "from sklearn.model_selection import ShuffleSplit\n",
        "from sklearn.model_selection import StratifiedKFold\n",
        "from sklearn.preprocessing import PolynomialFeatures\n",
        "from sklearn.preprocessing import StandardScaler\n",
        "from sklearn.impute import SimpleImputer\n",
        "from sklearn.feature_selection import RFECV\n",
        "\n",
        "from sklearn.pipeline import Pipeline\n",
        "from sklearn.tree import DecisionTreeRegressor\n",
        "from sklearn.tree import DecisionTreeClassifier\n",
        "from sklearn.svm import SVC\n",
        "from sklearn import tree\n",
        "from sklearn.tree import export_text\n",
        "\n",
        "from sklearn.metrics import ConfusionMatrixDisplay\n",
        "from sklearn.metrics import confusion_matrix\n",
        "from sklearn.metrics import classification_report"
      ]
    },
    {
      "cell_type": "code",
      "execution_count": null,
      "metadata": {
        "colab": {
          "base_uri": "https://localhost:8080/"
        },
        "id": "RS9DF3FvgvPr",
        "outputId": "8b9bf508-e359-4d3d-bd74-d6a18ba5ccf5"
      },
      "outputs": [
        {
          "output_type": "stream",
          "name": "stdout",
          "text": [
            "Mounted at /content/drive\n"
          ]
        }
      ],
      "source": [
        "from google.colab import drive\n",
        "drive.mount(\"/content/drive\")"
      ]
    },
    {
      "cell_type": "markdown",
      "metadata": {
        "id": "BfNu5d5WsUby"
      },
      "source": [
        "# DATA IMPORT"
      ]
    },
    {
      "cell_type": "code",
      "execution_count": null,
      "metadata": {
        "id": "97hZ4WHghUYs"
      },
      "outputs": [],
      "source": [
        "df1 = pd.read_csv(\"/content/drive/My Drive/Joseph@RMC/DA/data/feul_cons_2005-14.csv\")\n",
        "df2 = pd.read_csv(\"/content/drive/My Drive/Joseph@RMC/DA/data/feul_cons_2015-19.csv\")\n",
        "df3 = pd.read_csv(\"/content/drive/My Drive/Joseph@RMC/DA/data/feul_cons_2020.csv\")\n",
        "df4 = pd.read_excel(\"/content/drive/My Drive/Joseph@RMC/DA/data/fuel_cons_2021.xlsx\")\n",
        "df5 = pd.read_csv(\"/content/drive/My Drive/Joseph@RMC/DA/data/feul_cons_2022.csv\")\n",
        "df6 = pd.read_excel(\"/content/drive/My Drive/Joseph@RMC/DA/data/fuel_cons_2023.xlsx\")\n",
        "df7 = pd.read_excel(\"/content/drive/My Drive/Joseph@RMC/DA/data/fuel_cons_2024.xlsx\")"
      ]
    },
    {
      "cell_type": "markdown",
      "metadata": {
        "id": "okNnrxM-sY0z"
      },
      "source": [
        "# DATA CLEANING"
      ]
    },
    {
      "cell_type": "code",
      "execution_count": null,
      "metadata": {
        "id": "2XAHZIYnh1V0"
      },
      "outputs": [],
      "source": [
        "# dropping irrelevant columns\n",
        "df2.drop(\"_id\", axis = 1, inplace = True)\n",
        "df7.drop(\"_id\", axis = 1, inplace = True)"
      ]
    },
    {
      "cell_type": "code",
      "execution_count": null,
      "metadata": {
        "id": "6KTQywaSiaX5"
      },
      "outputs": [],
      "source": [
        "assert(df1.shape[1] == df2.shape[1] == df3.shape[1] == df4.shape[1] == df5.shape[1] == df6.shape[1])"
      ]
    },
    {
      "cell_type": "code",
      "execution_count": null,
      "metadata": {
        "colab": {
          "base_uri": "https://localhost:8080/"
        },
        "id": "-eWogtUGkSDI",
        "outputId": "d5c6210b-ce36-4942-8f4f-cd1b91f6706a"
      },
      "outputs": [
        {
          "output_type": "execute_result",
          "data": {
            "text/plain": [
              "Index(['Model year', 'Make', 'Model', 'Vehicle class', 'Engine size (L)',\n",
              "       'Cylinders', 'Transmission', 'Fuel type', 'City (L/100 km)',\n",
              "       'Highway (L/100 km)', 'Combined (L/100 km)', 'Combined (mpg)',\n",
              "       'CO2 emissions (g/km)', 'CO2 rating', 'Smog rating'],\n",
              "      dtype='object')"
            ]
          },
          "metadata": {},
          "execution_count": 6
        }
      ],
      "source": [
        "df1.columns"
      ]
    },
    {
      "cell_type": "code",
      "execution_count": null,
      "metadata": {
        "id": "Vr18awVGk5Eo"
      },
      "outputs": [],
      "source": [
        "df1.columns = ['year', 'manufacturer', 'model_name', 'class', 'engine_size', 'cylinders', 'transmission', 'fuel_type',\\\n",
        "               'city_fuel_cons_rating', 'hw_fuel_cons_rating', 'comb_fuel_cons_rating', 'comb_fuel_cons_rating_mpg',\\\n",
        "               'co2_emission','co2_rating', 'smog_rating']\n",
        "df2.columns = ['year', 'manufacturer', 'model_name', 'class', 'engine_size', 'cylinders', 'transmission', 'fuel_type',\\\n",
        "               'city_fuel_cons_rating', 'hw_fuel_cons_rating', 'comb_fuel_cons_rating', 'comb_fuel_cons_rating_mpg',\\\n",
        "               'co2_emission','co2_rating', 'smog_rating']\n",
        "df3.columns = ['year', 'manufacturer', 'model_name', 'class', 'engine_size', 'cylinders', 'transmission', 'fuel_type',\\\n",
        "               'city_fuel_cons_rating', 'hw_fuel_cons_rating', 'comb_fuel_cons_rating', 'comb_fuel_cons_rating_mpg',\\\n",
        "               'co2_emission','co2_rating', 'smog_rating']\n",
        "df4.columns = ['year', 'manufacturer', 'model_name', 'class', 'engine_size', 'cylinders', 'transmission', 'fuel_type',\\\n",
        "               'city_fuel_cons_rating', 'hw_fuel_cons_rating', 'comb_fuel_cons_rating', 'comb_fuel_cons_rating_mpg',\\\n",
        "               'co2_emission','co2_rating', 'smog_rating']\n",
        "df5.columns = ['year', 'manufacturer', 'model_name', 'class', 'engine_size', 'cylinders', 'transmission', 'fuel_type',\\\n",
        "               'city_fuel_cons_rating', 'hw_fuel_cons_rating', 'comb_fuel_cons_rating', 'comb_fuel_cons_rating_mpg',\\\n",
        "               'co2_emission','co2_rating', 'smog_rating']\n",
        "df6.columns = ['year', 'manufacturer', 'model_name', 'class', 'engine_size', 'cylinders', 'transmission', 'fuel_type',\\\n",
        "               'city_fuel_cons_rating', 'hw_fuel_cons_rating', 'comb_fuel_cons_rating', 'comb_fuel_cons_rating_mpg',\\\n",
        "               'co2_emission','co2_rating', 'smog_rating']\n",
        "df7.columns = ['year', 'manufacturer', 'model_name', 'class', 'engine_size', 'cylinders', 'transmission', 'fuel_type',\\\n",
        "               'city_fuel_cons_rating', 'hw_fuel_cons_rating', 'comb_fuel_cons_rating', 'comb_fuel_cons_rating_mpg',\\\n",
        "               'co2_emission','co2_rating', 'smog_rating']"
      ]
    },
    {
      "cell_type": "code",
      "execution_count": null,
      "metadata": {
        "id": "RLpiz5qemfRz"
      },
      "outputs": [],
      "source": [
        "df = pd.concat([df1,df2,df3,df4,df5,df6,df7], axis = 0, ignore_index = True, join = \"inner\")\n",
        "\n",
        "assert(df.shape[1] == df1.shape[1])"
      ]
    },
    {
      "cell_type": "code",
      "execution_count": null,
      "metadata": {
        "id": "iQyckLwnm7Hx"
      },
      "outputs": [],
      "source": [
        "df.replace({np.nan : \"Unknown\"}, inplace = True)"
      ]
    },
    {
      "cell_type": "code",
      "execution_count": null,
      "metadata": {
        "colab": {
          "base_uri": "https://localhost:8080/"
        },
        "id": "DdqKJtTonNFa",
        "outputId": "b0ae3f8c-d7e5-4cda-874d-9e9dacbfc568"
      },
      "outputs": [
        {
          "output_type": "execute_result",
          "data": {
            "text/plain": [
              "(array([19716, 19717, 19718, 19719, 19720, 19721, 19722, 19723, 19724,\n",
              "        19725, 19726, 19727, 19728, 19729, 19730, 19731, 19732, 19733,\n",
              "        19734, 19735, 19736, 19737, 19738]),)"
            ]
          },
          "metadata": {},
          "execution_count": 10
        }
      ],
      "source": [
        "indexes = np.where(df['model_name'] == \"Unknown\")\n",
        "indexes"
      ]
    },
    {
      "cell_type": "code",
      "execution_count": null,
      "metadata": {
        "id": "2TzfzYL1newu"
      },
      "outputs": [],
      "source": [
        "df.drop([19716, 19717, 19718, 19719, 19720, 19721, 19722, 19723, 19724,\n",
        "        19725, 19726, 19727, 19728, 19729, 19730, 19731, 19732, 19733,\n",
        "        19734, 19735, 19736, 19737, 19738], axis = 0, inplace = True)\n"
      ]
    },
    {
      "cell_type": "code",
      "execution_count": null,
      "metadata": {
        "id": "8B6hqFkXn8xK"
      },
      "outputs": [],
      "source": [
        "indexes = np.where(df['model_name'] == \"Unknown\")\n",
        "df.drop([\"co2_rating\", \"smog_rating\"], axis = 1, inplace = True)"
      ]
    },
    {
      "cell_type": "code",
      "execution_count": null,
      "metadata": {
        "colab": {
          "base_uri": "https://localhost:8080/"
        },
        "id": "9hl80SM9ooG2",
        "outputId": "f57acbe8-7f11-4061-d8f7-011b8087be00"
      },
      "outputs": [
        {
          "output_type": "execute_result",
          "data": {
            "text/plain": [
              "(20464, 13)"
            ]
          },
          "metadata": {},
          "execution_count": 13
        }
      ],
      "source": [
        "df.shape"
      ]
    },
    {
      "cell_type": "code",
      "execution_count": null,
      "metadata": {
        "id": "foyJyDRlujgz"
      },
      "outputs": [],
      "source": [
        "df.replace({'Sport utility vehicle' : 'SUV_std',\\\n",
        "            'Sport utility vehicle: Standard' : 'SUV_std',\\\n",
        "            'SUV: Standard' : 'SUV_std',\\\n",
        "            'Véhicule utilitaire sport : ordinaire' : 'SUV_std',\\\n",
        "            'Sport utility vehicle: Small' : 'SUV_small',\\\n",
        "            'SUV: Small' : 'SUV_small',\\\n",
        "            'Véhicule utilitaire sport : petit' : 'SUV_small',\\\n",
        "            'Sous-compacte' : 'subcompact',\\\n",
        "            'Subcompact' : 'subcompact',\\\n",
        "            'Minicompacte' : 'minicompact'}, inplace = True)"
      ]
    },
    {
      "cell_type": "code",
      "execution_count": null,
      "metadata": {
        "colab": {
          "base_uri": "https://localhost:8080/"
        },
        "id": "h1pzGubWyWoY",
        "outputId": "6d6801cf-e76f-46a9-e9b5-2effac555f64"
      },
      "outputs": [
        {
          "output_type": "execute_result",
          "data": {
            "text/plain": [
              "class\n",
              "SUV_std                3391\n",
              "Mid-size               2615\n",
              "compact                2581\n",
              "SUV_small              2145\n",
              "subcompact             1757\n",
              "pickup_truck_std       1725\n",
              "Full-size              1377\n",
              "two_seater             1234\n",
              "minicompact             954\n",
              "station_wagon_small     767\n",
              "pickup_truck_small      486\n",
              "minivan                 301\n",
              "station_wagon_mid       229\n",
              "van_pass                222\n",
              "van_cargo               212\n",
              "van                     122\n",
              "special_purpose_veh     119\n",
              "intermediate            116\n",
              "sedan_large              65\n",
              "fam_small                20\n",
              "van_small                17\n",
              "fam_intermediate          9\n",
              "Name: count, dtype: int64"
            ]
          },
          "metadata": {},
          "execution_count": 15
        }
      ],
      "source": [
        "df.replace({'Pickup truck: Standard' : 'pickup_truck_std',\\\n",
        "           'Pickup truck: Small' : 'pickup_truck_small',\\\n",
        "           'Station wagon: Small' : 'station_wagon_small',\\\n",
        "            'Deux places' : 'two_seater',\\\n",
        "            'Two-seater' : 'two_seater',\\\n",
        "            'Compact' : 'compact',\\\n",
        "            'Compacte' : 'compact',\\\n",
        "            'Station wagon: Mid-size' : 'station_wagon_mid',\\\n",
        "            'Special purpose vehicle' : 'special_purpose_veh',\\\n",
        "            'Véhicule à usage spécial ' : 'special_purpose_veh',\\\n",
        "            'Van: Passenger' : 'van_pass',\\\n",
        "            'Van: Cargo' : 'van_cargo',\\\n",
        "            'Intermédiaire' : 'intermediate',\\\n",
        "            'Camionnette : petite' : 'van_small',\\\n",
        "            'Camionnette : ordinaire' : 'van',\\\n",
        "            'Fourgonnette' : 'van',\\\n",
        "            'Fourgon : passager' : 'van_pass',\\\n",
        "            'Familiale : intermédiaire' : 'fam_intermediate',\\\n",
        "            'Familiale : petite' : 'fam_small',\\\n",
        "            'Grande berline' : 'sedan_large',\\\n",
        "            'Minicompact' : 'minicompact',\\\n",
        "            'Minivan' : 'minivan'}, inplace = True)\n",
        "\n",
        "df['class'].value_counts()"
      ]
    },
    {
      "cell_type": "code",
      "execution_count": null,
      "metadata": {
        "colab": {
          "base_uri": "https://localhost:8080/",
          "height": 70
        },
        "id": "AfqRFF1b6-wj",
        "outputId": "900dda94-0f1a-47bd-ee2a-c991688b2625"
      },
      "outputs": [
        {
          "output_type": "execute_result",
          "data": {
            "text/plain": [
              "\"df.replace({'SUV_small' : 'van_small', # <2,722 kg\\n            'van_cargo' : 'van',       # <3,856 kg\\n            'special_purpose_veh' : 'van', # <3,856 kg\\n            'fam_small' : 'fam',     # <4,530 L\\n            'fam_intermediate' : 'fam', # <4,530 L\\n            'sedan_large' : 'sedan', # >3,115 L\\n            'intermediate' : 'sedan', # >3,115 L\\n            }, inplace = True)\""
            ],
            "application/vnd.google.colaboratory.intrinsic+json": {
              "type": "string"
            }
          },
          "metadata": {},
          "execution_count": 16
        }
      ],
      "source": [
        "#clubbing as per gross vehicle ratings and interior volume on Canada website\n",
        "#https://ressources-naturelles.canada.ca/efficacite-energetique/efficacite-energetique-transports-carburants-remplacement/vehicules-personnels/choisir-bon-vehicule/achat-dun-vehicule-electrique/explication-des-tableaux/21384?_gl=1*14voqlf*_ga*NTMwNDI5MjQxLjE3MTYyMTkzNDA.*_ga_C2N57Y7DX5*MTcxNjIzMzUxMy4zLjAuMTcxNjIzMzUxMy4wLjAuMA..\n",
        "\n",
        "#Cars ========> Interior Volume\n",
        "#Light Trucks ==========> Gross Vehicle Ratings\n",
        "\n",
        "'''df.replace({'SUV_small' : 'van_small', # <2,722 kg\n",
        "            'van_cargo' : 'van',       # <3,856 kg\n",
        "            'special_purpose_veh' : 'van', # <3,856 kg\n",
        "            'fam_small' : 'fam',     # <4,530 L\n",
        "            'fam_intermediate' : 'fam', # <4,530 L\n",
        "            'sedan_large' : 'sedan', # >3,115 L\n",
        "            'intermediate' : 'sedan', # >3,115 L\n",
        "            }, inplace = True)'''"
      ]
    },
    {
      "cell_type": "code",
      "execution_count": null,
      "metadata": {
        "colab": {
          "base_uri": "https://localhost:8080/"
        },
        "id": "p27Tri7j-cRq",
        "outputId": "1d981c34-17ce-4f12-b3bf-244e0bd40e43"
      },
      "outputs": [
        {
          "output_type": "execute_result",
          "data": {
            "text/plain": [
              "class\n",
              "SUV_std                3391\n",
              "Mid-size               2615\n",
              "compact                2581\n",
              "SUV_small              2145\n",
              "subcompact             1757\n",
              "pickup_truck_std       1725\n",
              "Full-size              1377\n",
              "two_seater             1234\n",
              "minicompact             954\n",
              "station_wagon_small     767\n",
              "pickup_truck_small      486\n",
              "minivan                 301\n",
              "station_wagon_mid       229\n",
              "van_pass                222\n",
              "van_cargo               212\n",
              "van                     122\n",
              "special_purpose_veh     119\n",
              "intermediate            116\n",
              "sedan_large              65\n",
              "fam_small                20\n",
              "van_small                17\n",
              "fam_intermediate          9\n",
              "Name: count, dtype: int64"
            ]
          },
          "metadata": {},
          "execution_count": 17
        }
      ],
      "source": [
        "df['class'].value_counts()"
      ]
    },
    {
      "cell_type": "code",
      "execution_count": null,
      "metadata": {
        "colab": {
          "base_uri": "https://localhost:8080/"
        },
        "id": "pm18lhUv4fxr",
        "outputId": "8f8d3de1-4d87-4b34-e89d-21f400f3bcbe"
      },
      "outputs": [
        {
          "output_type": "execute_result",
          "data": {
            "text/plain": [
              "22"
            ]
          },
          "metadata": {},
          "execution_count": 18
        }
      ],
      "source": [
        "len(df['class'].unique())"
      ]
    },
    {
      "cell_type": "markdown",
      "metadata": {
        "id": "Rj6WrZvtsjUx"
      },
      "source": [
        "# DATA PREPROCESSING"
      ]
    },
    {
      "cell_type": "markdown",
      "metadata": {
        "id": "4vglo1Hre8-E"
      },
      "source": [
        "## Feature Transformation"
      ]
    },
    {
      "cell_type": "code",
      "execution_count": null,
      "metadata": {
        "colab": {
          "base_uri": "https://localhost:8080/",
          "height": 1000
        },
        "id": "7kv0_SrFvGd-",
        "outputId": "fe4ab61d-a7d7-4070-e4f6-88ca871d6a67"
      },
      "outputs": [
        {
          "output_type": "display_data",
          "data": {
            "text/plain": [
              "<Figure size 1500x2500 with 6 Axes>"
            ],
            "image/png": "[encoded data removed]"
          },
          "metadata": {}
        }
      ],
      "source": [
        "#for fitting a regression model, there needs to be a linear function, there's a log function that can be seen with the combine fuel consumption\n",
        "#rating so we take the reciprocal of that column and create a new column and plot it. now there's a linear relationship that can be found within\n",
        "#the column and CO2 emissions.\n",
        "df['log_comb_fuel_cons_rating_mpg'] = np.reciprocal(df['comb_fuel_cons_rating_mpg'])\n",
        "\n",
        "num_features = ['engine_size', 'cylinders', 'city_fuel_cons_rating', 'hw_fuel_cons_rating', 'comb_fuel_cons_rating',\\\n",
        "                'log_comb_fuel_cons_rating_mpg']\n",
        "titles = ['Engine Size vs CO2 Emissions', 'Cylinders vs CO2 Emissions', 'City fuel Consumption Ratings vs CO2 Emissions', 'Highway Fuel Consumption Ratings vs CO2 Emissions', 'Combined Fuel Consumption Ratings vs CO2 Emissions',\\\n",
        "          'Transformed Combined Fuel Consumption Ratings (mpg) vs CO2 Emissions']\n",
        "categories = ['Engine Size', 'Cylinders', 'City fuel Consumption Ratings', 'Highway Fuel Consumption Ratings', 'Combined Fuel Consumption Ratings',\\\n",
        "          'Transformed Combined Fuel Consumption Ratings (mpg)']\n",
        "\n",
        "scatter = df.drop([\"comb_fuel_cons_rating_mpg\"], axis = 1)\n",
        "\n",
        "plt.figure(figsize = (15,25))\n",
        "for i in range(1,len(num_features)+1):\n",
        "  plt.subplot(3,2,i)\n",
        "  plt.title(f'{titles[i-1]}')\n",
        "  plt.scatter(scatter[num_features[i-1]],scatter['co2_emission'])\n",
        "  plt.xlabel(f'{categories[i-1]}')\n",
        "  plt.ylabel('CO2 Emission')\n"
      ]
    },
    {
      "cell_type": "markdown",
      "source": [
        "### Interpretation\n",
        "\n",
        "The scatter plots in the image show the relationships between various features (Engine Size, Cylinders, City Fuel Consumption Ratings, Highway Fuel Consumption Ratings, Combined Fuel Consumption Ratings, Transformed Combined Fuel Consumption Ratings (mpg)) and the target variable CO2 Emissions for lightweight vehicles. Let's interpret each scatter plot:\n",
        "\n",
        "1. Engine Size vs CO2 Emissions\n",
        "Description: This scatter plot shows the relationship between engine size (in liters) and CO2 emissions (in grams per kilometer).\n",
        "\n",
        "  Interpretation: There is a clear positive correlation between engine size and CO2 emissions. As the engine size increases, CO2 emissions tend to increase. Larger engines typically consume more fuel, leading to higher emissions.\n",
        "\n",
        "2. Cylinders vs CO2 Emissions\n",
        "Description: This scatter plot illustrates the relationship between the number of cylinders in the engine and CO2 emissions.\n",
        "\n",
        "  Interpretation: There is a positive correlation between the number of cylinders and CO2 emissions. Vehicles with more cylinders generally produce higher CO2 emissions. This is consistent with the fact that more cylinders usually mean a larger engine and higher fuel consumption.\n",
        "\n",
        "3. City Fuel Consumption Ratings vs CO2 Emissions\n",
        "Description: This plot shows the relationship between city fuel consumption ratings (in liters per 100 kilometers) and CO2 emissions.\n",
        "\n",
        "  Interpretation: There is a strong positive correlation between city fuel consumption ratings and CO2 emissions. Higher city fuel consumption ratings (indicating less fuel efficiency in city driving) are associated with higher CO2 emissions.\n",
        "\n",
        "4. Highway Fuel Consumption Ratings vs CO2 Emissions\n",
        "Description: This scatter plot depicts the relationship between highway fuel consumption ratings and CO2 emissions.\n",
        "  \n",
        "  Interpretation: Similar to the city fuel consumption ratings, there is a positive correlation. Vehicles with higher highway fuel consumption ratings tend to have higher CO2 emissions. This indicates that less efficient vehicles on the highway also produce more CO2.\n",
        "\n",
        "5. Combined Fuel Consumption Ratings vs CO2 Emissions\n",
        "Description: This plot shows the relationship between combined fuel consumption ratings (a combination of city and highway ratings) and CO2 emissions.\n",
        "  \n",
        "  Interpretation: There is a strong positive correlation between combined fuel consumption ratings and CO2 emissions. Higher combined fuel consumption ratings are associated with higher CO2 emissions, reinforcing the idea that overall fuel efficiency is a strong predictor of emissions.\n",
        "6. Transformed Combined Fuel Consumption Ratings (mpg) vs CO2 Emissions\n",
        "Description: This scatter plot shows the relationship between the transformed combined fuel consumption ratings in miles per gallon (mpg) and CO2 emissions.\n",
        "  \n",
        "  Interpretation: There is a strong negative correlation between the transformed combined fuel consumption ratings and CO2 emissions. As the mpg increases (indicating better fuel efficiency), CO2 emissions decrease. This inverse relationship highlights the importance of fuel efficiency in reducing emissions.\n",
        "\n",
        "---\n",
        "Overall Interpretation\n",
        "\n",
        "Positive Correlations: The plots for Engine Size, Cylinders, City Fuel Consumption Ratings, Highway Fuel Consumption Ratings, and Combined Fuel Consumption Ratings all show positive correlations with CO2 emissions. This means that larger engines, more cylinders, and higher fuel consumption ratings are all associated with higher CO2 emissions.\n",
        "\n",
        "Negative Correlation: The plot for Transformed Combined Fuel Consumption Ratings (mpg) vs CO2 Emissions shows a negative correlation. Better fuel efficiency (higher mpg) is associated with lower CO2 emissions.\n",
        "\n",
        "Key Insights\n",
        "\n",
        "Fuel Consumption as a Key Predictor: Fuel consumption ratings (both city and highway) are strong predictors of CO2 emissions. Vehicles with higher fuel consumption ratings tend to emit more CO2.\n",
        "\n",
        "Engine Characteristics: Engine size and the number of cylinders are also important factors. Larger engines and more cylinders generally lead to higher emissions.\n",
        "\n",
        "Fuel Efficiency: Improving fuel efficiency (higher mpg) is crucial for reducing CO2 emissions. This suggests that policies and technologies aimed at increasing fuel efficiency can effectively reduce emissions.\n",
        "\n",
        "---\n",
        "---\n",
        "These scatter plots provide a clear visual representation of how various features impact CO2 emissions, supporting the conclusions drawn from the feature importance analysis and reinforcing the need to focus on fuel efficiency and engine characteristics to mitigate emissions."
      ],
      "metadata": {
        "id": "REjgp10ytBQ2"
      }
    },
    {
      "cell_type": "code",
      "execution_count": null,
      "metadata": {
        "colab": {
          "base_uri": "https://localhost:8080/"
        },
        "id": "CPwbhhN3s_nK",
        "outputId": "a4562f7f-0541-4e37-8f07-12852420c2ec"
      },
      "outputs": [
        {
          "output_type": "execute_result",
          "data": {
            "text/plain": [
              "Index(['year', 'manufacturer', 'model_name', 'class', 'engine_size',\n",
              "       'cylinders', 'transmission', 'fuel_type', 'city_fuel_cons_rating',\n",
              "       'hw_fuel_cons_rating', 'comb_fuel_cons_rating',\n",
              "       'comb_fuel_cons_rating_mpg', 'co2_emission',\n",
              "       'log_comb_fuel_cons_rating_mpg'],\n",
              "      dtype='object')"
            ]
          },
          "metadata": {},
          "execution_count": 20
        }
      ],
      "source": [
        "df.columns"
      ]
    },
    {
      "cell_type": "code",
      "execution_count": null,
      "metadata": {
        "id": "ul2kYNYGsE5M"
      },
      "outputs": [],
      "source": [
        "X = df.drop(['co2_emission','year', 'manufacturer', 'model_name','log_comb_fuel_cons_rating_mpg'], axis = 1)\n",
        "y = df[['co2_emission']]\n",
        "\n",
        "assert(X.shape[0] == y.shape[0])"
      ]
    },
    {
      "cell_type": "markdown",
      "metadata": {
        "id": "qaoetpytSuKx"
      },
      "source": [
        "## Ordinal Encoding of the data"
      ]
    },
    {
      "cell_type": "code",
      "execution_count": null,
      "metadata": {
        "colab": {
          "base_uri": "https://localhost:8080/"
        },
        "id": "iszGocfFStub",
        "outputId": "4a9b556f-a53c-42c1-ab00-dcba626399e1"
      },
      "outputs": [
        {
          "output_type": "stream",
          "name": "stdout",
          "text": [
            "<class 'pandas.core.frame.DataFrame'>\n",
            "Index: 20464 entries, 0 to 20486\n",
            "Data columns (total 9 columns):\n",
            " #   Column                     Non-Null Count  Dtype  \n",
            "---  ------                     --------------  -----  \n",
            " 0   class                      20464 non-null  object \n",
            " 1   engine_size                20464 non-null  float64\n",
            " 2   cylinders                  20464 non-null  float64\n",
            " 3   transmission               20464 non-null  object \n",
            " 4   fuel_type                  20464 non-null  object \n",
            " 5   city_fuel_cons_rating      20464 non-null  float64\n",
            " 6   hw_fuel_cons_rating        20464 non-null  float64\n",
            " 7   comb_fuel_cons_rating      20464 non-null  float64\n",
            " 8   comb_fuel_cons_rating_mpg  20464 non-null  float64\n",
            "dtypes: float64(6), object(3)\n",
            "memory usage: 1.6+ MB\n",
            "<class 'pandas.core.frame.DataFrame'>\n",
            "Index: 20464 entries, 0 to 20486\n",
            "Data columns (total 1 columns):\n",
            " #   Column        Non-Null Count  Dtype  \n",
            "---  ------        --------------  -----  \n",
            " 0   co2_emission  20464 non-null  float64\n",
            "dtypes: float64(1)\n",
            "memory usage: 319.8 KB\n"
          ]
        },
        {
          "output_type": "execute_result",
          "data": {
            "text/plain": [
              "(None, None)"
            ]
          },
          "metadata": {},
          "execution_count": 22
        }
      ],
      "source": [
        "X.info(), y.info()"
      ]
    },
    {
      "cell_type": "code",
      "execution_count": null,
      "metadata": {
        "colab": {
          "base_uri": "https://localhost:8080/"
        },
        "id": "AErJC6BcbD09",
        "outputId": "bf466294-7d87-477d-ab02-47057380c591"
      },
      "outputs": [
        {
          "output_type": "execute_result",
          "data": {
            "text/plain": [
              "array(['X', 'Z', 'E', 'D', 'N'], dtype=object)"
            ]
          },
          "metadata": {},
          "execution_count": 23
        }
      ],
      "source": [
        "X['fuel_type'].unique()"
      ]
    },
    {
      "cell_type": "code",
      "execution_count": null,
      "metadata": {
        "id": "COVyWB_MQXF_"
      },
      "outputs": [],
      "source": [
        "X_encoded = X.replace({'compact' : 4, 'SUV_std' : 12, 'two_seater' : 1, 'Mid-size' : 5, 'subcompact' : 3,\n",
        "       'station_wagon_small' : 7, 'station_wagon_mid' : 8, 'Full-size' : 6,\n",
        "       'minicompact' : 2, 'minivan' : 13, 'pickup_truck_std' : 10, 'van_cargo' : 14,\n",
        "       'van_pass' : 16, 'pickup_truck_small' : 9, 'special_purpose_veh' : 18,\n",
        "       'SUV_small' : 11, 'intermediate' : 19, 'fam_small' : 20, 'fam_intermediate' : 21,\n",
        "       'sedan_large' : 22, 'van_small' : 15, 'van' : 17,\\\n",
        "\n",
        "        'A4' : 1, 'M5' : 2, 'A5' : 3, 'AS4' : 4, 'M6' : 5, 'AS5' : 6, 'AV' : 7, 'AS6' : 8, 'AM6' : 9, 'A6' : 10,\n",
        "       'A7' : 11, 'AM7' : 12, 'AS7' : 13, 'AS8' : 14, 'M4' : 15, 'A8' : 16, 'M7' : 17, 'AV7' : 18, 'AV8' : 19, 'AV6' : 20,\n",
        "       'AM5' : 21, 'A9' : 22, 'AS9' : 23, 'AM8' : 24, 'AM9' : 25, 'AS10' : 26, 'A10' :27, 'AV10' : 28, 'AV1' : 29,\\\n",
        "         # A = Automatic; AM = Automated manual; AS = Automatic with select shift; AV = Continuously variable; M = Manual\n",
        "           'X' : 1, 'Z' : 2, 'E' : 3, 'D' : 4, 'N' : 5}) # X = Regular gasoline; Z = Premium gasoline; D = Diesel; E = E85; N = Natural Gas"
      ]
    },
    {
      "cell_type": "markdown",
      "metadata": {
        "id": "lpOq22F6vd0x"
      },
      "source": [
        "# FEATURE SELECTION"
      ]
    },
    {
      "cell_type": "code",
      "execution_count": null,
      "metadata": {
        "colab": {
          "base_uri": "https://localhost:8080/"
        },
        "id": "1aONLz6JvgCB",
        "outputId": "d6b4c9a6-01e9-40ce-9370-ebb9ff892ada"
      },
      "outputs": [
        {
          "output_type": "execute_result",
          "data": {
            "text/plain": [
              "array([2, 1, 3, 1, 1, 1, 1, 1, 1])"
            ]
          },
          "metadata": {},
          "execution_count": 25
        }
      ],
      "source": [
        "rfe = RFECV(DecisionTreeRegressor(), cv = 5, scoring = 'neg_mean_squared_error', min_features_to_select = 2)\n",
        "rfe.fit(X_encoded, y)\n",
        "rfe_ranking = rfe.ranking_\n",
        "rfe_ranking"
      ]
    },
    {
      "cell_type": "code",
      "execution_count": null,
      "metadata": {
        "colab": {
          "base_uri": "https://localhost:8080/"
        },
        "id": "ywWzG1axvf_Q",
        "outputId": "d97866bc-6d1e-407f-962b-bd4eedf76cb8"
      },
      "outputs": [
        {
          "output_type": "execute_result",
          "data": {
            "text/plain": [
              "array([5.39935435, 1.22791912, 1.05681769, 0.75598038, 0.33376699])"
            ]
          },
          "metadata": {},
          "execution_count": 26
        }
      ],
      "source": [
        "from sklearn.decomposition import PCA\n",
        "ss = StandardScaler()\n",
        "X_encoded_pca = ss.fit_transform(X_encoded)\n",
        "pca = PCA(n_components = 5, random_state = 42)\n",
        "X_encoded_pca = pca.fit_transform(X_encoded_pca, y)\n",
        "pca.explained_variance_"
      ]
    },
    {
      "cell_type": "code",
      "execution_count": null,
      "metadata": {
        "colab": {
          "base_uri": "https://localhost:8080/"
        },
        "id": "tFN7H6m5szxT",
        "outputId": "67b8d60b-9fa8-4485-fe29-2e4b1adf009c"
      },
      "outputs": [
        {
          "output_type": "execute_result",
          "data": {
            "text/plain": [
              "array([[ 0.11622278,  0.38315907,  0.37084916, -0.00436656,  0.13679167,\n",
              "         0.4216978 ,  0.40912048,  0.4221368 , -0.40001648],\n",
              "       [-0.54150683,  0.0349644 ,  0.15050387,  0.47788615,  0.66046416,\n",
              "        -0.01537482, -0.11403001, -0.05081513,  0.04986927],\n",
              "       [ 0.62176724,  0.00866344, -0.02843656,  0.77550698, -0.05012703,\n",
              "        -0.07742803,  0.01103022, -0.04668581,  0.01736858],\n",
              "       [ 0.3795814 , -0.37707421, -0.41130512, -0.26100242,  0.65615109,\n",
              "         0.06701327,  0.16637311,  0.10351701, -0.05493657],\n",
              "       [ 0.3789607 ,  0.41799116,  0.44754316, -0.30796067,  0.32058251,\n",
              "        -0.18717974, -0.2256698 , -0.20356819,  0.39542541]])"
            ]
          },
          "metadata": {},
          "execution_count": 27
        }
      ],
      "source": [
        "pca.components_"
      ]
    },
    {
      "cell_type": "code",
      "execution_count": null,
      "metadata": {
        "colab": {
          "base_uri": "https://localhost:8080/"
        },
        "id": "sw3_GZH5vf8h",
        "outputId": "d21d035b-ad1d-4351-b4a6-0387a7525e22"
      },
      "outputs": [
        {
          "output_type": "stream",
          "name": "stdout",
          "text": [
            "                                PC1       PC2       PC3       PC4       PC5\n",
            "class                      0.116223 -0.541507  0.621767  0.379581  0.378961\n",
            "engine_size                0.383159  0.034964  0.008663 -0.377074  0.417991\n",
            "cylinders                  0.370849  0.150504 -0.028437 -0.411305  0.447543\n",
            "transmission              -0.004367  0.477886  0.775507 -0.261002 -0.307961\n",
            "fuel_type                  0.136792  0.660464 -0.050127  0.656151  0.320583\n",
            "city_fuel_cons_rating      0.421698 -0.015375 -0.077428  0.067013 -0.187180\n",
            "hw_fuel_cons_rating        0.409120 -0.114030  0.011030  0.166373 -0.225670\n",
            "comb_fuel_cons_rating      0.422137 -0.050815 -0.046686  0.103517 -0.203568\n",
            "comb_fuel_cons_rating_mpg -0.400016  0.049869  0.017369 -0.054937  0.395425\n"
          ]
        }
      ],
      "source": [
        "# Create a DataFrame for the PCA components\n",
        "pca_columns = [f'PC{i+1}' for i in range(pca.n_components_)]\n",
        "X_pca_df = pd.DataFrame(data=X_encoded_pca, columns=pca_columns)\n",
        "\n",
        "# PCA components (loadings)\n",
        "loadings = pd.DataFrame(pca.components_.T, columns=pca_columns, index=X_encoded.columns)\n",
        "print(loadings)\n"
      ]
    },
    {
      "cell_type": "code",
      "execution_count": null,
      "metadata": {
        "colab": {
          "base_uri": "https://localhost:8080/",
          "height": 564
        },
        "id": "W668voEVvf6Y",
        "outputId": "7a52f1c0-e6a0-4668-e066-61007583693f"
      },
      "outputs": [
        {
          "output_type": "display_data",
          "data": {
            "text/plain": [
              "<Figure size 1000x600 with 1 Axes>"
            ],
            "image/png": "[encoded data removed]"
          },
          "metadata": {}
        }
      ],
      "source": [
        "import matplotlib.pyplot as plt\n",
        "\n",
        "plt.figure(figsize=(10, 6))\n",
        "plt.barh(loadings.index, loadings['PC1'], color='skyblue')\n",
        "categories = ['Vehicle Class','Engine Size', 'Cylinders', 'Transmission','Fuel Type','City fuel Consumption Ratings', 'Highway Fuel Consumption Ratings', 'Combined Fuel Consumption Ratings',\\\n",
        "          'Combined Fuel Consumption Ratings (mpg)']\n",
        "plt.yticks(ticks = range(len(categories)), labels = categories)\n",
        "plt.xlabel('Feature Importance')\n",
        "plt.ylabel('Feature')\n",
        "plt.title('Feature Importance in PC1')\n",
        "plt.show()\n"
      ]
    },
    {
      "cell_type": "markdown",
      "source": [
        "### Interpretation\n",
        "\n",
        "The horizontal bar graph displays the feature importance of the first principal component (PC1) from a Principal Component Analysis (PCA) performed on a set of features measured for lightweight vehicles and light trucks. The target variable for the analysis is CO2 emissions of the vehicles. Here’s a detailed interpretation of the results:\n",
        "\n",
        "Key Features and Their Importances\n",
        "---\n",
        "\n",
        "Combined Fuel Consumption Ratings (mpg):\n",
        "\n",
        "Importance: This feature has the highest absolute loading (negative).\n",
        "\n",
        "Interpretation: As the combined fuel consumption rating in miles per gallon (mpg) increases, the value of PC1 decreases. This suggests that vehicles with higher mpg (which indicates better fuel efficiency) are associated with lower CO2 emissions.\n",
        "\n",
        "---\n",
        "\n",
        "Combined Fuel Consumption Ratings:\n",
        "\n",
        "Importance: This feature has the second-highest absolute loading (positive).\n",
        "\n",
        "Interpretation: As the combined fuel consumption rating in liters per 100 kilometers (L/100 km) increases, the value of PC1 increases. This implies that higher fuel consumption is strongly correlated with higher CO2 emissions.\n",
        "\n",
        "---\n",
        "\n",
        "Highway Fuel Consumption Ratings:\n",
        "\n",
        "Importance: This feature also has a significant positive loading.\n",
        "\n",
        "Interpretation: Vehicles with higher highway fuel consumption ratings tend to have higher CO2 emissions, contributing positively to PC1.\n",
        "\n",
        "---\n",
        "\n",
        "City Fuel Consumption Ratings:\n",
        "\n",
        "Importance: This feature has a notable positive loading.\n",
        "\n",
        "Interpretation: Higher city fuel consumption ratings are associated with higher CO2 emissions, making this feature important for PC1.\n",
        "\n",
        "---\n",
        "\n",
        "Fuel Type:\n",
        "\n",
        "Importance: This feature has a moderate positive loading.\n",
        "\n",
        "Interpretation: Different fuel types impact CO2 emissions, with certain fuel types contributing more to higher emissions.\n",
        "\n",
        "---\n",
        "\n",
        "Transmission:\n",
        "\n",
        "Importance: This feature has a minimal positive loading.\n",
        "\n",
        "Interpretation: Transmission type has a relatively small influence on CO2 emissions compared to fuel consumption ratings.\n",
        "\n",
        "---\n",
        "\n",
        "Cylinders:\n",
        "\n",
        "Importance: This feature has a positive loading.\n",
        "\n",
        "Interpretation: The number of engine cylinders has some influence on CO2 emissions, but it is less critical than fuel consumption metrics.\n",
        "\n",
        "---\n",
        "\n",
        "Engine Size:\n",
        "\n",
        "Importance: This feature has a positive loading.\n",
        "\n",
        "Interpretation: Larger engine sizes are associated with higher CO2 emissions, but this feature is less influential than fuel consumption ratings.\n",
        "\n",
        "---\n",
        "\n",
        "Vehicle Class:\n",
        "\n",
        "Importance: This feature has the lowest positive loading.\n",
        "\n",
        "Interpretation: The vehicle class (lightweight vehicles vs. light trucks) has the least influence on CO2 emissions among all the features considered.\n",
        "\n",
        "Summary of Interpretation\n",
        "---\n",
        "\n",
        "Dominant Features:\n",
        "\n",
        "Combined Fuel Consumption Ratings (mpg) and Combined Fuel Consumption Ratings (L/100 km) are the most influential features for PC1. These features have the highest absolute loadings, indicating they play the most significant roles in explaining the variance in CO2 emissions.\n",
        "The negative loading for mpg indicates that better fuel efficiency (higher mpg) is associated with lower CO2 emissions, while the positive loading for combined fuel consumption (L/100 km) indicates that higher fuel consumption is associated with higher CO2 emissions.\n",
        "\n",
        "Significant but Less Dominant Features:\n",
        "\n",
        "Highway Fuel Consumption Ratings and City Fuel Consumption Ratings also have strong positive loadings, indicating that higher fuel consumption in both city and highway driving conditions contributes to higher CO2 emissions.\n",
        "\n",
        "Moderate Features:\n",
        "\n",
        "Fuel Type has a moderate influence, suggesting that different types of fuel have varying impacts on CO2 emissions.\n",
        "\n",
        "Minimal Influence Features:\n",
        "\n",
        "Transmission, Cylinders, Engine Size, and Vehicle Class have smaller loadings, indicating that these features are less critical in explaining the variance in CO2 emissions compared to fuel consumption ratings.\n",
        "\n",
        "---\n",
        "---\n",
        "\n",
        "Conclusion\n",
        "\n",
        "The PCA results highlight the primary importance of fuel consumption ratings (combined, highway, and city) in explaining CO2 emissions for lightweight vehicles and light trucks. Features like fuel type, transmission, number of cylinders, engine size, and vehicle class are less influential. These insights can guide the focus on key factors affecting CO2 emissions, which are mainly related to fuel efficiency and consumption.\n"
      ],
      "metadata": {
        "id": "AZipZ1NJrxTI"
      }
    },
    {
      "cell_type": "markdown",
      "metadata": {
        "id": "a0nwoCiMQTkC"
      },
      "source": [
        "# MODEL BUILDING"
      ]
    },
    {
      "cell_type": "markdown",
      "metadata": {
        "id": "QQILMsMdpEBz"
      },
      "source": [
        "## Splitting the Dataset"
      ]
    },
    {
      "cell_type": "code",
      "execution_count": null,
      "metadata": {
        "id": "T9XgSc8iV1p7"
      },
      "outputs": [],
      "source": [
        "#splitting the dataset in training and testing\n",
        "from sklearn.model_selection import train_test_split\n",
        "X_encoded_PCA = X_encoded.drop('transmission', axis = 1)\n",
        "X_train, X_test, y_train, y_test = train_test_split(X_encoded_PCA, y, test_size = 0.2, random_state = 42)"
      ]
    },
    {
      "cell_type": "code",
      "execution_count": null,
      "metadata": {
        "id": "g6gV-gr1Z9cG"
      },
      "outputs": [],
      "source": [
        "assert(X_train.shape[0] == y_train.shape[0])\n",
        "assert(X_test.shape[0] == y_test.shape[0])"
      ]
    },
    {
      "cell_type": "code",
      "execution_count": null,
      "metadata": {
        "colab": {
          "base_uri": "https://localhost:8080/",
          "height": 443
        },
        "id": "-8ClJudhaMrX",
        "outputId": "23177efd-669d-41f0-87cd-a4a1aeddde6e"
      },
      "outputs": [
        {
          "output_type": "execute_result",
          "data": {
            "text/plain": [
              "       class  engine_size  cylinders  fuel_type  city_fuel_cons_rating  \\\n",
              "11072     13          3.5        6.0          1                   12.3   \n",
              "8603       4          3.6        6.0          1                   12.9   \n",
              "16987      4          2.0        4.0          2                    9.3   \n",
              "19807      6          4.4        8.0          2                   13.3   \n",
              "15755      5          2.5        4.0          1                    8.6   \n",
              "...      ...          ...        ...        ...                    ...   \n",
              "5018       4          2.0        4.0          2                   12.7   \n",
              "15258     10          2.7        6.0          1                   13.1   \n",
              "4518       9          4.0        6.0          1                   16.0   \n",
              "17903     15          3.5        6.0          1                   13.8   \n",
              "121        6          3.8        6.0          1                   13.4   \n",
              "\n",
              "       hw_fuel_cons_rating  comb_fuel_cons_rating  comb_fuel_cons_rating_mpg  \n",
              "11072                  8.5                   10.6                       27.0  \n",
              "8603                   8.1                   10.7                       26.0  \n",
              "16987                  7.0                    8.3                       34.0  \n",
              "19807                  9.3                   11.5                       25.0  \n",
              "15755                  6.1                    7.4                       38.0  \n",
              "...                    ...                    ...                        ...  \n",
              "5018                   8.9                   11.0                       26.0  \n",
              "15258                 10.2                   11.8                       24.0  \n",
              "4518                  12.6                   14.4                       20.0  \n",
              "17903                 11.4                   12.7                       22.0  \n",
              "121                    8.7                   11.3                       25.0  \n",
              "\n",
              "[4093 rows x 8 columns]"
            ],
            "text/html": [
              "\n",
              "  <div id=\"df-6d4d2691-2d02-44b2-9a70-a32c7281c4b5\" class=\"colab-df-container\">\n",
              "    <div>\n",
              "<style scoped>\n",
              "    .dataframe tbody tr th:only-of-type {\n",
              "        vertical-align: middle;\n",
              "    }\n",
              "\n",
              "    .dataframe tbody tr th {\n",
              "        vertical-align: top;\n",
              "    }\n",
              "\n",
              "    .dataframe thead th {\n",
              "        text-align: right;\n",
              "    }\n",
              "</style>\n",
              "<table border=\"1\" class=\"dataframe\">\n",
              "  <thead>\n",
              "    <tr style=\"text-align: right;\">\n",
              "      <th></th>\n",
              "      <th>class</th>\n",
              "      <th>engine_size</th>\n",
              "      <th>cylinders</th>\n",
              "      <th>fuel_type</th>\n",
              "      <th>city_fuel_cons_rating</th>\n",
              "      <th>hw_fuel_cons_rating</th>\n",
              "      <th>comb_fuel_cons_rating</th>\n",
              "      <th>comb_fuel_cons_rating_mpg</th>\n",
              "    </tr>\n",
              "  </thead>\n",
              "  <tbody>\n",
              "    <tr>\n",
              "      <th>11072</th>\n",
              "      <td>13</td>\n",
              "      <td>3.5</td>\n",
              "      <td>6.0</td>\n",
              "      <td>1</td>\n",
              "      <td>12.3</td>\n",
              "      <td>8.5</td>\n",
              "      <td>10.6</td>\n",
              "      <td>27.0</td>\n",
              "    </tr>\n",
              "    <tr>\n",
              "      <th>8603</th>\n",
              "      <td>4</td>\n",
              "      <td>3.6</td>\n",
              "      <td>6.0</td>\n",
              "      <td>1</td>\n",
              "      <td>12.9</td>\n",
              "      <td>8.1</td>\n",
              "      <td>10.7</td>\n",
              "      <td>26.0</td>\n",
              "    </tr>\n",
              "    <tr>\n",
              "      <th>16987</th>\n",
              "      <td>4</td>\n",
              "      <td>2.0</td>\n",
              "      <td>4.0</td>\n",
              "      <td>2</td>\n",
              "      <td>9.3</td>\n",
              "      <td>7.0</td>\n",
              "      <td>8.3</td>\n",
              "      <td>34.0</td>\n",
              "    </tr>\n",
              "    <tr>\n",
              "      <th>19807</th>\n",
              "      <td>6</td>\n",
              "      <td>4.4</td>\n",
              "      <td>8.0</td>\n",
              "      <td>2</td>\n",
              "      <td>13.3</td>\n",
              "      <td>9.3</td>\n",
              "      <td>11.5</td>\n",
              "      <td>25.0</td>\n",
              "    </tr>\n",
              "    <tr>\n",
              "      <th>15755</th>\n",
              "      <td>5</td>\n",
              "      <td>2.5</td>\n",
              "      <td>4.0</td>\n",
              "      <td>1</td>\n",
              "      <td>8.6</td>\n",
              "      <td>6.1</td>\n",
              "      <td>7.4</td>\n",
              "      <td>38.0</td>\n",
              "    </tr>\n",
              "    <tr>\n",
              "      <th>...</th>\n",
              "      <td>...</td>\n",
              "      <td>...</td>\n",
              "      <td>...</td>\n",
              "      <td>...</td>\n",
              "      <td>...</td>\n",
              "      <td>...</td>\n",
              "      <td>...</td>\n",
              "      <td>...</td>\n",
              "    </tr>\n",
              "    <tr>\n",
              "      <th>5018</th>\n",
              "      <td>4</td>\n",
              "      <td>2.0</td>\n",
              "      <td>4.0</td>\n",
              "      <td>2</td>\n",
              "      <td>12.7</td>\n",
              "      <td>8.9</td>\n",
              "      <td>11.0</td>\n",
              "      <td>26.0</td>\n",
              "    </tr>\n",
              "    <tr>\n",
              "      <th>15258</th>\n",
              "      <td>10</td>\n",
              "      <td>2.7</td>\n",
              "      <td>6.0</td>\n",
              "      <td>1</td>\n",
              "      <td>13.1</td>\n",
              "      <td>10.2</td>\n",
              "      <td>11.8</td>\n",
              "      <td>24.0</td>\n",
              "    </tr>\n",
              "    <tr>\n",
              "      <th>4518</th>\n",
              "      <td>9</td>\n",
              "      <td>4.0</td>\n",
              "      <td>6.0</td>\n",
              "      <td>1</td>\n",
              "      <td>16.0</td>\n",
              "      <td>12.6</td>\n",
              "      <td>14.4</td>\n",
              "      <td>20.0</td>\n",
              "    </tr>\n",
              "    <tr>\n",
              "      <th>17903</th>\n",
              "      <td>15</td>\n",
              "      <td>3.5</td>\n",
              "      <td>6.0</td>\n",
              "      <td>1</td>\n",
              "      <td>13.8</td>\n",
              "      <td>11.4</td>\n",
              "      <td>12.7</td>\n",
              "      <td>22.0</td>\n",
              "    </tr>\n",
              "    <tr>\n",
              "      <th>121</th>\n",
              "      <td>6</td>\n",
              "      <td>3.8</td>\n",
              "      <td>6.0</td>\n",
              "      <td>1</td>\n",
              "      <td>13.4</td>\n",
              "      <td>8.7</td>\n",
              "      <td>11.3</td>\n",
              "      <td>25.0</td>\n",
              "    </tr>\n",
              "  </tbody>\n",
              "</table>\n",
              "<p>4093 rows × 8 columns</p>\n",
              "</div>\n",
              "    <div class=\"colab-df-buttons\">\n",
              "\n",
              "  <div class=\"colab-df-container\">\n",
              "    <button class=\"colab-df-convert\" onclick=\"convertToInteractive('df-6d4d2691-2d02-44b2-9a70-a32c7281c4b5')\"\n",
              "            title=\"Convert this dataframe to an interactive table.\"\n",
              "            style=\"display:none;\">\n",
              "\n",
              "  <svg xmlns=\"http://www.w3.org/2000/svg\" height=\"24px\" viewBox=\"0 -960 960 960\">\n",
              "    <path d=\"M120-120v-720h720v720H120Zm60-500h600v-160H180v160Zm220 220h160v-160H400v160Zm0 220h160v-160H400v160ZM180-400h160v-160H180v160Zm440 0h160v-160H620v160ZM180-180h160v-160H180v160Zm440 0h160v-160H620v160Z\"/>\n",
              "  </svg>\n",
              "    </button>\n",
              "\n",
              "  <style>\n",
              "    .colab-df-container {\n",
              "      display:flex;\n",
              "      gap: 12px;\n",
              "    }\n",
              "\n",
              "    .colab-df-convert {\n",
              "      background-color: #E8F0FE;\n",
              "      border: none;\n",
              "      border-radius: 50%;\n",
              "      cursor: pointer;\n",
              "      display: none;\n",
              "      fill: #1967D2;\n",
              "      height: 32px;\n",
              "      padding: 0 0 0 0;\n",
              "      width: 32px;\n",
              "    }\n",
              "\n",
              "    .colab-df-convert:hover {\n",
              "      background-color: #E2EBFA;\n",
              "      box-shadow: 0px 1px 2px rgba(60, 64, 67, 0.3), 0px 1px 3px 1px rgba(60, 64, 67, 0.15);\n",
              "      fill: #174EA6;\n",
              "    }\n",
              "\n",
              "    .colab-df-buttons div {\n",
              "      margin-bottom: 4px;\n",
              "    }\n",
              "\n",
              "    [theme=dark] .colab-df-convert {\n",
              "      background-color: #3B4455;\n",
              "      fill: #D2E3FC;\n",
              "    }\n",
              "\n",
              "    [theme=dark] .colab-df-convert:hover {\n",
              "      background-color: #434B5C;\n",
              "      box-shadow: 0px 1px 3px 1px rgba(0, 0, 0, 0.15);\n",
              "      filter: drop-shadow(0px 1px 2px rgba(0, 0, 0, 0.3));\n",
              "      fill: #FFFFFF;\n",
              "    }\n",
              "  </style>\n",
              "\n",
              "    <script>\n",
              "      const buttonEl =\n",
              "        document.querySelector('#df-6d4d2691-2d02-44b2-9a70-a32c7281c4b5 button.colab-df-convert');\n",
              "      buttonEl.style.display =\n",
              "        google.colab.kernel.accessAllowed ? 'block' : 'none';\n",
              "\n",
              "      async function convertToInteractive(key) {\n",
              "        const element = document.querySelector('#df-6d4d2691-2d02-44b2-9a70-a32c7281c4b5');\n",
              "        const dataTable =\n",
              "          await google.colab.kernel.invokeFunction('convertToInteractive',\n",
              "                                                    [key], {});\n",
              "        if (!dataTable) return;\n",
              "\n",
              "        const docLinkHtml = 'Like what you see? Visit the ' +\n",
              "          '<a target=\"_blank\" href=https://colab.research.google.com/notebooks/data_table.ipynb>data table notebook</a>'\n",
              "          + ' to learn more about interactive tables.';\n",
              "        element.innerHTML = '';\n",
              "        dataTable['output_type'] = 'display_data';\n",
              "        await google.colab.output.renderOutput(dataTable, element);\n",
              "        const docLink = document.createElement('div');\n",
              "        docLink.innerHTML = docLinkHtml;\n",
              "        element.appendChild(docLink);\n",
              "      }\n",
              "    </script>\n",
              "  </div>\n",
              "\n",
              "\n",
              "<div id=\"df-bc320dd5-3b0f-49df-b020-5f58724857fe\">\n",
              "  <button class=\"colab-df-quickchart\" onclick=\"quickchart('df-bc320dd5-3b0f-49df-b020-5f58724857fe')\"\n",
              "            title=\"Suggest charts\"\n",
              "            style=\"display:none;\">\n",
              "\n",
              "<svg xmlns=\"http://www.w3.org/2000/svg\" height=\"24px\"viewBox=\"0 0 24 24\"\n",
              "     width=\"24px\">\n",
              "    <g>\n",
              "        <path d=\"M19 3H5c-1.1 0-2 .9-2 2v14c0 1.1.9 2 2 2h14c1.1 0 2-.9 2-2V5c0-1.1-.9-2-2-2zM9 17H7v-7h2v7zm4 0h-2V7h2v10zm4 0h-2v-4h2v4z\"/>\n",
              "    </g>\n",
              "</svg>\n",
              "  </button>\n",
              "\n",
              "<style>\n",
              "  .colab-df-quickchart {\n",
              "      --bg-color: #E8F0FE;\n",
              "      --fill-color: #1967D2;\n",
              "      --hover-bg-color: #E2EBFA;\n",
              "      --hover-fill-color: #174EA6;\n",
              "      --disabled-fill-color: #AAA;\n",
              "      --disabled-bg-color: #DDD;\n",
              "  }\n",
              "\n",
              "  [theme=dark] .colab-df-quickchart {\n",
              "      --bg-color: #3B4455;\n",
              "      --fill-color: #D2E3FC;\n",
              "      --hover-bg-color: #434B5C;\n",
              "      --hover-fill-color: #FFFFFF;\n",
              "      --disabled-bg-color: #3B4455;\n",
              "      --disabled-fill-color: #666;\n",
              "  }\n",
              "\n",
              "  .colab-df-quickchart {\n",
              "    background-color: var(--bg-color);\n",
              "    border: none;\n",
              "    border-radius: 50%;\n",
              "    cursor: pointer;\n",
              "    display: none;\n",
              "    fill: var(--fill-color);\n",
              "    height: 32px;\n",
              "    padding: 0;\n",
              "    width: 32px;\n",
              "  }\n",
              "\n",
              "  .colab-df-quickchart:hover {\n",
              "    background-color: var(--hover-bg-color);\n",
              "    box-shadow: 0 1px 2px rgba(60, 64, 67, 0.3), 0 1px 3px 1px rgba(60, 64, 67, 0.15);\n",
              "    fill: var(--button-hover-fill-color);\n",
              "  }\n",
              "\n",
              "  .colab-df-quickchart-complete:disabled,\n",
              "  .colab-df-quickchart-complete:disabled:hover {\n",
              "    background-color: var(--disabled-bg-color);\n",
              "    fill: var(--disabled-fill-color);\n",
              "    box-shadow: none;\n",
              "  }\n",
              "\n",
              "  .colab-df-spinner {\n",
              "    border: 2px solid var(--fill-color);\n",
              "    border-color: transparent;\n",
              "    border-bottom-color: var(--fill-color);\n",
              "    animation:\n",
              "      spin 1s steps(1) infinite;\n",
              "  }\n",
              "\n",
              "  @keyframes spin {\n",
              "    0% {\n",
              "      border-color: transparent;\n",
              "      border-bottom-color: var(--fill-color);\n",
              "      border-left-color: var(--fill-color);\n",
              "    }\n",
              "    20% {\n",
              "      border-color: transparent;\n",
              "      border-left-color: var(--fill-color);\n",
              "      border-top-color: var(--fill-color);\n",
              "    }\n",
              "    30% {\n",
              "      border-color: transparent;\n",
              "      border-left-color: var(--fill-color);\n",
              "      border-top-color: var(--fill-color);\n",
              "      border-right-color: var(--fill-color);\n",
              "    }\n",
              "    40% {\n",
              "      border-color: transparent;\n",
              "      border-right-color: var(--fill-color);\n",
              "      border-top-color: var(--fill-color);\n",
              "    }\n",
              "    60% {\n",
              "      border-color: transparent;\n",
              "      border-right-color: var(--fill-color);\n",
              "    }\n",
              "    80% {\n",
              "      border-color: transparent;\n",
              "      border-right-color: var(--fill-color);\n",
              "      border-bottom-color: var(--fill-color);\n",
              "    }\n",
              "    90% {\n",
              "      border-color: transparent;\n",
              "      border-bottom-color: var(--fill-color);\n",
              "    }\n",
              "  }\n",
              "</style>\n",
              "\n",
              "  <script>\n",
              "    async function quickchart(key) {\n",
              "      const quickchartButtonEl =\n",
              "        document.querySelector('#' + key + ' button');\n",
              "      quickchartButtonEl.disabled = true;  // To prevent multiple clicks.\n",
              "      quickchartButtonEl.classList.add('colab-df-spinner');\n",
              "      try {\n",
              "        const charts = await google.colab.kernel.invokeFunction(\n",
              "            'suggestCharts', [key], {});\n",
              "      } catch (error) {\n",
              "        console.error('Error during call to suggestCharts:', error);\n",
              "      }\n",
              "      quickchartButtonEl.classList.remove('colab-df-spinner');\n",
              "      quickchartButtonEl.classList.add('colab-df-quickchart-complete');\n",
              "    }\n",
              "    (() => {\n",
              "      let quickchartButtonEl =\n",
              "        document.querySelector('#df-bc320dd5-3b0f-49df-b020-5f58724857fe button');\n",
              "      quickchartButtonEl.style.display =\n",
              "        google.colab.kernel.accessAllowed ? 'block' : 'none';\n",
              "    })();\n",
              "  </script>\n",
              "</div>\n",
              "    </div>\n",
              "  </div>\n"
            ],
            "application/vnd.google.colaboratory.intrinsic+json": {
              "type": "dataframe",
              "variable_name": "X_test",
              "summary": "{\n  \"name\": \"X_test\",\n  \"rows\": 4093,\n  \"fields\": [\n    {\n      \"column\": \"class\",\n      \"properties\": {\n        \"dtype\": \"number\",\n        \"std\": 4,\n        \"min\": 1,\n        \"max\": 22,\n        \"num_unique_values\": 22,\n        \"samples\": [\n          13,\n          2,\n          7\n        ],\n        \"semantic_type\": \"\",\n        \"description\": \"\"\n      }\n    },\n    {\n      \"column\": \"engine_size\",\n      \"properties\": {\n        \"dtype\": \"number\",\n        \"std\": 1.3408631331922585,\n        \"min\": 1.0,\n        \"max\": 8.4,\n        \"num_unique_values\": 56,\n        \"samples\": [\n          3.5,\n          5.3,\n          5.7\n        ],\n        \"semantic_type\": \"\",\n        \"description\": \"\"\n      }\n    },\n    {\n      \"column\": \"cylinders\",\n      \"properties\": {\n        \"dtype\": \"number\",\n        \"std\": 1.8456764648680195,\n        \"min\": 2.0,\n        \"max\": 16.0,\n        \"num_unique_values\": 9,\n        \"samples\": [\n          2.0,\n          4.0,\n          12.0\n        ],\n        \"semantic_type\": \"\",\n        \"description\": \"\"\n      }\n    },\n    {\n      \"column\": \"fuel_type\",\n      \"properties\": {\n        \"dtype\": \"number\",\n        \"std\": 0,\n        \"min\": 1,\n        \"max\": 4,\n        \"num_unique_values\": 4,\n        \"samples\": [\n          2,\n          4,\n          1\n        ],\n        \"semantic_type\": \"\",\n        \"description\": \"\"\n      }\n    },\n    {\n      \"column\": \"city_fuel_cons_rating\",\n      \"properties\": {\n        \"dtype\": \"number\",\n        \"std\": 3.658762790410156,\n        \"min\": 4.3,\n        \"max\": 30.6,\n        \"num_unique_values\": 208,\n        \"samples\": [\n          19.8,\n          14.2,\n          18.3\n        ],\n        \"semantic_type\": \"\",\n        \"description\": \"\"\n      }\n    },\n    {\n      \"column\": \"hw_fuel_cons_rating\",\n      \"properties\": {\n        \"dtype\": \"number\",\n        \"std\": 2.4543446013070804,\n        \"min\": 4.1,\n        \"max\": 22.1,\n        \"num_unique_values\": 151,\n        \"samples\": [\n          7.6,\n          9.1,\n          16.0\n        ],\n        \"semantic_type\": \"\",\n        \"description\": \"\"\n      }\n    },\n    {\n      \"column\": \"comb_fuel_cons_rating\",\n      \"properties\": {\n        \"dtype\": \"number\",\n        \"std\": 3.078999455465352,\n        \"min\": 4.4,\n        \"max\": 26.1,\n        \"num_unique_values\": 184,\n        \"samples\": [\n          11.7,\n          17.5,\n          20.7\n        ],\n        \"semantic_type\": \"\",\n        \"description\": \"\"\n      }\n    },\n    {\n      \"column\": \"comb_fuel_cons_rating_mpg\",\n      \"properties\": {\n        \"dtype\": \"number\",\n        \"std\": 6.816849816834657,\n        \"min\": 11.0,\n        \"max\": 64.0,\n        \"num_unique_values\": 51,\n        \"samples\": [\n          45.0,\n          58.0,\n          48.0\n        ],\n        \"semantic_type\": \"\",\n        \"description\": \"\"\n      }\n    }\n  ]\n}"
            }
          },
          "metadata": {},
          "execution_count": 32
        }
      ],
      "source": [
        "X_test"
      ]
    },
    {
      "cell_type": "markdown",
      "metadata": {
        "id": "Jd5MN8OlLhL_"
      },
      "source": [
        "## Lazy Predict"
      ]
    },
    {
      "cell_type": "code",
      "execution_count": null,
      "metadata": {
        "colab": {
          "base_uri": "https://localhost:8080/"
        },
        "id": "XI0Ly9D3Lcec",
        "outputId": "7736c976-67bc-49dc-b6be-43374fd03615"
      },
      "outputs": [
        {
          "output_type": "stream",
          "name": "stdout",
          "text": [
            "Collecting LazyPredict\n",
            "  Downloading lazypredict-0.2.12-py2.py3-none-any.whl (12 kB)\n",
            "Requirement already satisfied: click in /usr/local/lib/python3.10/dist-packages (from LazyPredict) (8.1.7)\n",
            "Requirement already satisfied: scikit-learn in /usr/local/lib/python3.10/dist-packages (from LazyPredict) (1.2.2)\n",
            "Requirement already satisfied: pandas in /usr/local/lib/python3.10/dist-packages (from LazyPredict) (2.0.3)\n",
            "Requirement already satisfied: tqdm in /usr/local/lib/python3.10/dist-packages (from LazyPredict) (4.66.4)\n",
            "Requirement already satisfied: joblib in /usr/local/lib/python3.10/dist-packages (from LazyPredict) (1.4.2)\n",
            "Requirement already satisfied: lightgbm in /usr/local/lib/python3.10/dist-packages (from LazyPredict) (4.1.0)\n",
            "Requirement already satisfied: xgboost in /usr/local/lib/python3.10/dist-packages (from LazyPredict) (2.0.3)\n",
            "Requirement already satisfied: numpy in /usr/local/lib/python3.10/dist-packages (from lightgbm->LazyPredict) (1.25.2)\n",
            "Requirement already satisfied: scipy in /usr/local/lib/python3.10/dist-packages (from lightgbm->LazyPredict) (1.11.4)\n",
            "Requirement already satisfied: python-dateutil>=2.8.2 in /usr/local/lib/python3.10/dist-packages (from pandas->LazyPredict) (2.8.2)\n",
            "Requirement already satisfied: pytz>=2020.1 in /usr/local/lib/python3.10/dist-packages (from pandas->LazyPredict) (2023.4)\n",
            "Requirement already satisfied: tzdata>=2022.1 in /usr/local/lib/python3.10/dist-packages (from pandas->LazyPredict) (2024.1)\n",
            "Requirement already satisfied: threadpoolctl>=2.0.0 in /usr/local/lib/python3.10/dist-packages (from scikit-learn->LazyPredict) (3.5.0)\n",
            "Requirement already satisfied: six>=1.5 in /usr/local/lib/python3.10/dist-packages (from python-dateutil>=2.8.2->pandas->LazyPredict) (1.16.0)\n",
            "Installing collected packages: LazyPredict\n",
            "Successfully installed LazyPredict-0.2.12\n"
          ]
        }
      ],
      "source": [
        "!pip install LazyPredict"
      ]
    },
    {
      "cell_type": "code",
      "execution_count": null,
      "metadata": {
        "colab": {
          "base_uri": "https://localhost:8080/"
        },
        "id": "LIbPE-paL4kA",
        "outputId": "164ae471-ba89-4845-d59f-62504e88c900"
      },
      "outputs": [
        {
          "output_type": "stream",
          "name": "stderr",
          "text": [
            " 76%|███████▌  | 32/42 [05:13<00:34,  3.42s/it]"
          ]
        },
        {
          "output_type": "stream",
          "name": "stdout",
          "text": [
            "QuantileRegressor model failed to execute\n",
            "Solver interior-point is not anymore available in SciPy >= 1.11.0.\n"
          ]
        },
        {
          "output_type": "stream",
          "name": "stderr",
          "text": [
            " 98%|█████████▊| 41/42 [05:38<00:02,  2.80s/it]"
          ]
        },
        {
          "output_type": "stream",
          "name": "stdout",
          "text": [
            "[LightGBM] [Info] Auto-choosing row-wise multi-threading, the overhead of testing was 0.001023 seconds.\n",
            "You can set `force_row_wise=true` to remove the overhead.\n",
            "And if memory is not enough, you can set `force_col_wise=true`.\n",
            "[LightGBM] [Info] Total Bins 729\n",
            "[LightGBM] [Info] Number of data points in the train set: 16371, number of used features: 8\n",
            "[LightGBM] [Info] Start training from score 266.662024\n"
          ]
        },
        {
          "output_type": "stream",
          "name": "stderr",
          "text": [
            "100%|██████████| 42/42 [05:38<00:00,  8.07s/it]"
          ]
        },
        {
          "output_type": "stream",
          "name": "stdout",
          "text": [
            "                               Adjusted R-Squared  R-Squared   RMSE  \\\n",
            "Model                                                                 \n",
            "XGBRegressor                                 1.00       1.00   2.04   \n",
            "DecisionTreeRegressor                        1.00       1.00   2.04   \n",
            "ExtraTreeRegressor                           1.00       1.00   2.16   \n",
            "ExtraTreesRegressor                          1.00       1.00   2.18   \n",
            "BaggingRegressor                             1.00       1.00   2.25   \n",
            "RandomForestRegressor                        1.00       1.00   2.27   \n",
            "LGBMRegressor                                1.00       1.00   2.36   \n",
            "HistGradientBoostingRegressor                1.00       1.00   2.49   \n",
            "KNeighborsRegressor                          1.00       1.00   3.10   \n",
            "GradientBoostingRegressor                    1.00       1.00   3.27   \n",
            "MLPRegressor                                 1.00       1.00   3.48   \n",
            "SVR                                          0.96       0.96  11.97   \n",
            "NuSVR                                        0.96       0.96  12.04   \n",
            "AdaBoostRegressor                            0.94       0.94  15.81   \n",
            "PoissonRegressor                             0.92       0.92  17.42   \n",
            "RidgeCV                                      0.91       0.91  18.79   \n",
            "BayesianRidge                                0.91       0.91  18.79   \n",
            "LassoCV                                      0.91       0.91  18.79   \n",
            "Ridge                                        0.91       0.91  18.79   \n",
            "TransformedTargetRegressor                   0.91       0.91  18.79   \n",
            "LinearRegression                             0.91       0.91  18.79   \n",
            "LassoLarsCV                                  0.91       0.91  18.79   \n",
            "LassoLarsIC                                  0.91       0.91  18.79   \n",
            "Lasso                                        0.91       0.91  18.86   \n",
            "LassoLars                                    0.91       0.91  18.86   \n",
            "SGDRegressor                                 0.91       0.91  18.87   \n",
            "ElasticNetCV                                 0.91       0.91  18.89   \n",
            "OrthogonalMatchingPursuitCV                  0.90       0.90  19.22   \n",
            "LarsCV                                       0.89       0.89  20.31   \n",
            "ElasticNet                                   0.89       0.89  20.43   \n",
            "TweedieRegressor                             0.87       0.87  22.10   \n",
            "GammaRegressor                               0.86       0.86  23.20   \n",
            "OrthogonalMatchingPursuit                    0.85       0.85  24.17   \n",
            "HuberRegressor                               0.82       0.82  26.40   \n",
            "LinearSVR                                    0.82       0.82  26.56   \n",
            "PassiveAggressiveRegressor                   0.82       0.82  26.64   \n",
            "RANSACRegressor                              0.78       0.78  29.32   \n",
            "DummyRegressor                              -0.00      -0.00  62.09   \n",
            "KernelRidge                                -17.57     -17.54 267.34   \n",
            "GaussianProcessRegressor                   -20.26     -20.22 286.01   \n",
            "Lars                                       -54.02     -53.91 460.11   \n",
            "\n",
            "                               Time Taken  \n",
            "Model                                      \n",
            "XGBRegressor                         0.91  \n",
            "DecisionTreeRegressor                0.17  \n",
            "ExtraTreeRegressor                   0.11  \n",
            "ExtraTreesRegressor                  2.32  \n",
            "BaggingRegressor                     0.38  \n",
            "RandomForestRegressor                3.57  \n",
            "LGBMRegressor                        0.42  \n",
            "HistGradientBoostingRegressor        0.57  \n",
            "KNeighborsRegressor                  0.15  \n",
            "GradientBoostingRegressor            1.41  \n",
            "MLPRegressor                        19.99  \n",
            "SVR                                 19.48  \n",
            "NuSVR                               22.37  \n",
            "AdaBoostRegressor                    0.89  \n",
            "PoissonRegressor                     0.29  \n",
            "RidgeCV                              0.05  \n",
            "BayesianRidge                        0.04  \n",
            "LassoCV                              0.49  \n",
            "Ridge                                0.03  \n",
            "TransformedTargetRegressor           0.05  \n",
            "LinearRegression                     0.07  \n",
            "LassoLarsCV                          0.08  \n",
            "LassoLarsIC                          0.07  \n",
            "Lasso                                0.21  \n",
            "LassoLars                            0.06  \n",
            "SGDRegressor                         0.11  \n",
            "ElasticNetCV                         0.36  \n",
            "OrthogonalMatchingPursuitCV          0.05  \n",
            "LarsCV                               0.07  \n",
            "ElasticNet                           0.05  \n",
            "TweedieRegressor                     0.32  \n",
            "GammaRegressor                       0.07  \n",
            "OrthogonalMatchingPursuit            0.02  \n",
            "HuberRegressor                       0.26  \n",
            "LinearSVR                            0.15  \n",
            "PassiveAggressiveRegressor           0.04  \n",
            "RANSACRegressor                      0.05  \n",
            "DummyRegressor                       0.03  \n",
            "KernelRidge                         64.22  \n",
            "GaussianProcessRegressor           198.81  \n",
            "Lars                                 0.03  \n"
          ]
        },
        {
          "output_type": "stream",
          "name": "stderr",
          "text": [
            "\n"
          ]
        }
      ],
      "source": [
        "from lazypredict.Supervised import LazyRegressor\n",
        "\n",
        "reg = LazyRegressor(verbose = 0, custom_metric = None, ignore_warnings = False)\n",
        "models, predictions = reg.fit(X_train, X_test, y_train, y_test)\n",
        "print(models)"
      ]
    },
    {
      "cell_type": "markdown",
      "metadata": {
        "id": "0eUEv9uELkpX"
      },
      "source": [
        "## Dummy Regressor"
      ]
    },
    {
      "cell_type": "code",
      "execution_count": null,
      "metadata": {
        "colab": {
          "base_uri": "https://localhost:8080/"
        },
        "id": "H0Ys1sMTVjBz",
        "outputId": "0472f868-92b8-457b-c3f1-4ef50be9091a"
      },
      "outputs": [
        {
          "output_type": "stream",
          "name": "stdout",
          "text": [
            "The training score is -0.007867820200414322\n",
            "The testing score is -0.009236468668873954\n"
          ]
        }
      ],
      "source": [
        "from sklearn.dummy import DummyRegressor\n",
        "from sklearn.metrics import mean_squared_error, r2_score, mean_absolute_error\n",
        "\n",
        "dummy_reg = DummyRegressor(strategy = 'median')\n",
        "\n",
        "dummy_reg.fit(X_train, y_train)\n",
        "\n",
        "y_dummy_pred = dummy_reg.predict(X_test)\n",
        "print(f\"The training score is {dummy_reg.score(X_train, y_train)}\\nThe testing score is {dummy_reg.score(X_test,y_test)}\")"
      ]
    },
    {
      "cell_type": "markdown",
      "metadata": {
        "id": "7RinaXa2Lnmd"
      },
      "source": [
        "## Linear Regression"
      ]
    },
    {
      "cell_type": "code",
      "execution_count": null,
      "metadata": {
        "colab": {
          "base_uri": "https://localhost:8080/",
          "height": 124
        },
        "id": "B4MnTKFqAmrc",
        "outputId": "40f8f34e-1d9e-43c9-c655-c65ad9cfe0db"
      },
      "outputs": [
        {
          "output_type": "execute_result",
          "data": {
            "text/plain": [
              "Pipeline(steps=[('std_scaler', StandardScaler()),\n",
              "                ('lin_reg', LinearRegression())])"
            ],
            "text/html": [
              "<style>#sk-container-id-1 {color: black;background-color: white;}#sk-container-id-1 pre{padding: 0;}#sk-container-id-1 div.sk-toggleable {background-color: white;}#sk-container-id-1 label.sk-toggleable__label {cursor: pointer;display: block;width: 100%;margin-bottom: 0;padding: 0.3em;box-sizing: border-box;text-align: center;}#sk-container-id-1 label.sk-toggleable__label-arrow:before {content: \"▸\";float: left;margin-right: 0.25em;color: #696969;}#sk-container-id-1 label.sk-toggleable__label-arrow:hover:before {color: black;}#sk-container-id-1 div.sk-estimator:hover label.sk-toggleable__label-arrow:before {color: black;}#sk-container-id-1 div.sk-toggleable__content {max-height: 0;max-width: 0;overflow: hidden;text-align: left;background-color: #f0f8ff;}#sk-container-id-1 div.sk-toggleable__content pre {margin: 0.2em;color: black;border-radius: 0.25em;background-color: #f0f8ff;}#sk-container-id-1 input.sk-toggleable__control:checked~div.sk-toggleable__content {max-height: 200px;max-width: 100%;overflow: auto;}#sk-container-id-1 input.sk-toggleable__control:checked~label.sk-toggleable__label-arrow:before {content: \"▾\";}#sk-container-id-1 div.sk-estimator input.sk-toggleable__control:checked~label.sk-toggleable__label {background-color: #d4ebff;}#sk-container-id-1 div.sk-label input.sk-toggleable__control:checked~label.sk-toggleable__label {background-color: #d4ebff;}#sk-container-id-1 input.sk-hidden--visually {border: 0;clip: rect(1px 1px 1px 1px);clip: rect(1px, 1px, 1px, 1px);height: 1px;margin: -1px;overflow: hidden;padding: 0;position: absolute;width: 1px;}#sk-container-id-1 div.sk-estimator {font-family: monospace;background-color: #f0f8ff;border: 1px dotted black;border-radius: 0.25em;box-sizing: border-box;margin-bottom: 0.5em;}#sk-container-id-1 div.sk-estimator:hover {background-color: #d4ebff;}#sk-container-id-1 div.sk-parallel-item::after {content: \"\";width: 100%;border-bottom: 1px solid gray;flex-grow: 1;}#sk-container-id-1 div.sk-label:hover label.sk-toggleable__label {background-color: #d4ebff;}#sk-container-id-1 div.sk-serial::before {content: \"\";position: absolute;border-left: 1px solid gray;box-sizing: border-box;top: 0;bottom: 0;left: 50%;z-index: 0;}#sk-container-id-1 div.sk-serial {display: flex;flex-direction: column;align-items: center;background-color: white;padding-right: 0.2em;padding-left: 0.2em;position: relative;}#sk-container-id-1 div.sk-item {position: relative;z-index: 1;}#sk-container-id-1 div.sk-parallel {display: flex;align-items: stretch;justify-content: center;background-color: white;position: relative;}#sk-container-id-1 div.sk-item::before, #sk-container-id-1 div.sk-parallel-item::before {content: \"\";position: absolute;border-left: 1px solid gray;box-sizing: border-box;top: 0;bottom: 0;left: 50%;z-index: -1;}#sk-container-id-1 div.sk-parallel-item {display: flex;flex-direction: column;z-index: 1;position: relative;background-color: white;}#sk-container-id-1 div.sk-parallel-item:first-child::after {align-self: flex-end;width: 50%;}#sk-container-id-1 div.sk-parallel-item:last-child::after {align-self: flex-start;width: 50%;}#sk-container-id-1 div.sk-parallel-item:only-child::after {width: 0;}#sk-container-id-1 div.sk-dashed-wrapped {border: 1px dashed gray;margin: 0 0.4em 0.5em 0.4em;box-sizing: border-box;padding-bottom: 0.4em;background-color: white;}#sk-container-id-1 div.sk-label label {font-family: monospace;font-weight: bold;display: inline-block;line-height: 1.2em;}#sk-container-id-1 div.sk-label-container {text-align: center;}#sk-container-id-1 div.sk-container {/* jupyter's `normalize.less` sets `[hidden] { display: none; }` but bootstrap.min.css set `[hidden] { display: none !important; }` so we also need the `!important` here to be able to override the default hidden behavior on the sphinx rendered scikit-learn.org. See: https://github.com/scikit-learn/scikit-learn/issues/21755 */display: inline-block !important;position: relative;}#sk-container-id-1 div.sk-text-repr-fallback {display: none;}</style><div id=\"sk-container-id-1\" class=\"sk-top-container\"><div class=\"sk-text-repr-fallback\"><pre>Pipeline(steps=[(&#x27;std_scaler&#x27;, StandardScaler()),\n",
              "                (&#x27;lin_reg&#x27;, LinearRegression())])</pre><b>In a Jupyter environment, please rerun this cell to show the HTML representation or trust the notebook. <br />On GitHub, the HTML representation is unable to render, please try loading this page with nbviewer.org.</b></div><div class=\"sk-container\" hidden><div class=\"sk-item sk-dashed-wrapped\"><div class=\"sk-label-container\"><div class=\"sk-label sk-toggleable\"><input class=\"sk-toggleable__control sk-hidden--visually\" id=\"sk-estimator-id-1\" type=\"checkbox\" ><label for=\"sk-estimator-id-1\" class=\"sk-toggleable__label sk-toggleable__label-arrow\">Pipeline</label><div class=\"sk-toggleable__content\"><pre>Pipeline(steps=[(&#x27;std_scaler&#x27;, StandardScaler()),\n",
              "                (&#x27;lin_reg&#x27;, LinearRegression())])</pre></div></div></div><div class=\"sk-serial\"><div class=\"sk-item\"><div class=\"sk-estimator sk-toggleable\"><input class=\"sk-toggleable__control sk-hidden--visually\" id=\"sk-estimator-id-2\" type=\"checkbox\" ><label for=\"sk-estimator-id-2\" class=\"sk-toggleable__label sk-toggleable__label-arrow\">StandardScaler</label><div class=\"sk-toggleable__content\"><pre>StandardScaler()</pre></div></div></div><div class=\"sk-item\"><div class=\"sk-estimator sk-toggleable\"><input class=\"sk-toggleable__control sk-hidden--visually\" id=\"sk-estimator-id-3\" type=\"checkbox\" ><label for=\"sk-estimator-id-3\" class=\"sk-toggleable__label sk-toggleable__label-arrow\">LinearRegression</label><div class=\"sk-toggleable__content\"><pre>LinearRegression()</pre></div></div></div></div></div></div></div>"
            ]
          },
          "metadata": {},
          "execution_count": 36
        }
      ],
      "source": [
        "from sklearn.linear_model import LinearRegression\n",
        "\n",
        "linear_reg = LinearRegression()\n",
        "\n",
        "lin_reg_pipe = Pipeline([\n",
        "    ('std_scaler', StandardScaler()),\n",
        "    ('lin_reg', LinearRegression())\n",
        "])\n",
        "\n",
        "lin_reg_pipe.fit(X_train,y_train)"
      ]
    },
    {
      "cell_type": "code",
      "execution_count": null,
      "metadata": {
        "colab": {
          "base_uri": "https://localhost:8080/"
        },
        "id": "E9H91FYbfVWe",
        "outputId": "38997f14-b9fd-4c8f-ef24-7c540a73e4d5"
      },
      "outputs": [
        {
          "output_type": "stream",
          "name": "stdout",
          "text": [
            "intercepts :  [266.66202431]\n",
            "wieght vector :  [[ -0.35969721   0.99499647  16.72301725  -6.82346972   0.60168448\n",
            "    5.22855571  20.32938117 -22.88700876]]\n",
            "Corresponding columns :  Index(['class', 'engine_size', 'cylinders', 'transmission', 'fuel_type',\n",
            "       'city_fuel_cons_rating', 'hw_fuel_cons_rating', 'comb_fuel_cons_rating',\n",
            "       'comb_fuel_cons_rating_mpg'],\n",
            "      dtype='object')\n"
          ]
        }
      ],
      "source": [
        "print(\"intercepts : \", lin_reg_pipe[-1].intercept_)\n",
        "print(\"wieght vector : \", lin_reg_pipe[-1].coef_)\n",
        "print(\"Corresponding columns : \", X.columns)"
      ]
    },
    {
      "cell_type": "code",
      "execution_count": null,
      "metadata": {
        "id": "a9Ps1iHpG_va"
      },
      "outputs": [],
      "source": [
        "y_lin_pred = lin_reg_pipe.predict(X_test)"
      ]
    },
    {
      "cell_type": "code",
      "execution_count": null,
      "metadata": {
        "colab": {
          "base_uri": "https://localhost:8080/"
        },
        "id": "t22kbNNmAmoz",
        "outputId": "6385a41f-bf8d-4c31-ad35-7a295506af91"
      },
      "outputs": [
        {
          "output_type": "stream",
          "name": "stdout",
          "text": [
            "Model performance on test set:  0.9084460144385527\n",
            "Model performance on train set:  0.9059312346582886\n"
          ]
        }
      ],
      "source": [
        "test_score = lin_reg_pipe.score(X_test, y_test)\n",
        "print (\"Model performance on test set: \", test_score)\n",
        "\n",
        "train_score = lin_reg_pipe.score(X_train, y_train)\n",
        "print (\"Model performance on train set: \", train_score)"
      ]
    },
    {
      "cell_type": "code",
      "execution_count": null,
      "metadata": {
        "colab": {
          "base_uri": "https://localhost:8080/"
        },
        "id": "hz8TImNxG1Tf",
        "outputId": "af5efd01-f736-49cc-c131-8d474f4ebf29"
      },
      "outputs": [
        {
          "output_type": "stream",
          "name": "stdout",
          "text": [
            "the root mean squared error for test dataset is : 18.787910146873354\n"
          ]
        }
      ],
      "source": [
        "print(f\"the root mean squared error for test dataset is : {sqrt(mean_squared_error(y_test,y_lin_pred))}\")"
      ]
    },
    {
      "cell_type": "code",
      "execution_count": null,
      "metadata": {
        "colab": {
          "base_uri": "https://localhost:8080/"
        },
        "id": "i6N2JNYuWx_t",
        "outputId": "8f820cf4-1e00-4529-8e52-8ecdd011527c"
      },
      "outputs": [
        {
          "output_type": "execute_result",
          "data": {
            "text/plain": [
              "16371"
            ]
          },
          "metadata": {},
          "execution_count": 41
        }
      ],
      "source": [
        "X_train.shape[0]"
      ]
    },
    {
      "cell_type": "markdown",
      "metadata": {
        "id": "3an5IV-rLq5u"
      },
      "source": [
        "## Stochastic Gradient Regressor"
      ]
    },
    {
      "cell_type": "code",
      "execution_count": null,
      "metadata": {
        "colab": {
          "base_uri": "https://localhost:8080/",
          "height": 184
        },
        "id": "o_Mmun6_Amlr",
        "outputId": "ad81092e-264d-4d3a-f2c5-487d430ce91e"
      },
      "outputs": [
        {
          "output_type": "execute_result",
          "data": {
            "text/plain": [
              "GridSearchCV(cv=5,\n",
              "             estimator=Pipeline(steps=[('std_scaler', StandardScaler()),\n",
              "                                       ('poly', PolynomialFeatures()),\n",
              "                                       ('sgd_reg',\n",
              "                                        SGDRegressor(average=True,\n",
              "                                                     learning_rate='adaptive'))]),\n",
              "             n_jobs=-1,\n",
              "             param_grid={'poly__degree': [1, 2],\n",
              "                         'sgd_reg__alpha': [0.0001, 0.001],\n",
              "                         'sgd_reg__penalty': ['l1', 'l2']},\n",
              "             refit='neg_mean_squared_error', return_train_score=True,\n",
              "             scoring={'neg_mean_absolute_error': 'neg_mean_absolute_error',\n",
              "                      'neg_mean_squared_error': 'neg_mean_squared_error'})"
            ],
            "text/html": [
              "<style>#sk-container-id-2 {color: black;background-color: white;}#sk-container-id-2 pre{padding: 0;}#sk-container-id-2 div.sk-toggleable {background-color: white;}#sk-container-id-2 label.sk-toggleable__label {cursor: pointer;display: block;width: 100%;margin-bottom: 0;padding: 0.3em;box-sizing: border-box;text-align: center;}#sk-container-id-2 label.sk-toggleable__label-arrow:before {content: \"▸\";float: left;margin-right: 0.25em;color: #696969;}#sk-container-id-2 label.sk-toggleable__label-arrow:hover:before {color: black;}#sk-container-id-2 div.sk-estimator:hover label.sk-toggleable__label-arrow:before {color: black;}#sk-container-id-2 div.sk-toggleable__content {max-height: 0;max-width: 0;overflow: hidden;text-align: left;background-color: #f0f8ff;}#sk-container-id-2 div.sk-toggleable__content pre {margin: 0.2em;color: black;border-radius: 0.25em;background-color: #f0f8ff;}#sk-container-id-2 input.sk-toggleable__control:checked~div.sk-toggleable__content {max-height: 200px;max-width: 100%;overflow: auto;}#sk-container-id-2 input.sk-toggleable__control:checked~label.sk-toggleable__label-arrow:before {content: \"▾\";}#sk-container-id-2 div.sk-estimator input.sk-toggleable__control:checked~label.sk-toggleable__label {background-color: #d4ebff;}#sk-container-id-2 div.sk-label input.sk-toggleable__control:checked~label.sk-toggleable__label {background-color: #d4ebff;}#sk-container-id-2 input.sk-hidden--visually {border: 0;clip: rect(1px 1px 1px 1px);clip: rect(1px, 1px, 1px, 1px);height: 1px;margin: -1px;overflow: hidden;padding: 0;position: absolute;width: 1px;}#sk-container-id-2 div.sk-estimator {font-family: monospace;background-color: #f0f8ff;border: 1px dotted black;border-radius: 0.25em;box-sizing: border-box;margin-bottom: 0.5em;}#sk-container-id-2 div.sk-estimator:hover {background-color: #d4ebff;}#sk-container-id-2 div.sk-parallel-item::after {content: \"\";width: 100%;border-bottom: 1px solid gray;flex-grow: 1;}#sk-container-id-2 div.sk-label:hover label.sk-toggleable__label {background-color: #d4ebff;}#sk-container-id-2 div.sk-serial::before {content: \"\";position: absolute;border-left: 1px solid gray;box-sizing: border-box;top: 0;bottom: 0;left: 50%;z-index: 0;}#sk-container-id-2 div.sk-serial {display: flex;flex-direction: column;align-items: center;background-color: white;padding-right: 0.2em;padding-left: 0.2em;position: relative;}#sk-container-id-2 div.sk-item {position: relative;z-index: 1;}#sk-container-id-2 div.sk-parallel {display: flex;align-items: stretch;justify-content: center;background-color: white;position: relative;}#sk-container-id-2 div.sk-item::before, #sk-container-id-2 div.sk-parallel-item::before {content: \"\";position: absolute;border-left: 1px solid gray;box-sizing: border-box;top: 0;bottom: 0;left: 50%;z-index: -1;}#sk-container-id-2 div.sk-parallel-item {display: flex;flex-direction: column;z-index: 1;position: relative;background-color: white;}#sk-container-id-2 div.sk-parallel-item:first-child::after {align-self: flex-end;width: 50%;}#sk-container-id-2 div.sk-parallel-item:last-child::after {align-self: flex-start;width: 50%;}#sk-container-id-2 div.sk-parallel-item:only-child::after {width: 0;}#sk-container-id-2 div.sk-dashed-wrapped {border: 1px dashed gray;margin: 0 0.4em 0.5em 0.4em;box-sizing: border-box;padding-bottom: 0.4em;background-color: white;}#sk-container-id-2 div.sk-label label {font-family: monospace;font-weight: bold;display: inline-block;line-height: 1.2em;}#sk-container-id-2 div.sk-label-container {text-align: center;}#sk-container-id-2 div.sk-container {/* jupyter's `normalize.less` sets `[hidden] { display: none; }` but bootstrap.min.css set `[hidden] { display: none !important; }` so we also need the `!important` here to be able to override the default hidden behavior on the sphinx rendered scikit-learn.org. See: https://github.com/scikit-learn/scikit-learn/issues/21755 */display: inline-block !important;position: relative;}#sk-container-id-2 div.sk-text-repr-fallback {display: none;}</style><div id=\"sk-container-id-2\" class=\"sk-top-container\"><div class=\"sk-text-repr-fallback\"><pre>GridSearchCV(cv=5,\n",
              "             estimator=Pipeline(steps=[(&#x27;std_scaler&#x27;, StandardScaler()),\n",
              "                                       (&#x27;poly&#x27;, PolynomialFeatures()),\n",
              "                                       (&#x27;sgd_reg&#x27;,\n",
              "                                        SGDRegressor(average=True,\n",
              "                                                     learning_rate=&#x27;adaptive&#x27;))]),\n",
              "             n_jobs=-1,\n",
              "             param_grid={&#x27;poly__degree&#x27;: [1, 2],\n",
              "                         &#x27;sgd_reg__alpha&#x27;: [0.0001, 0.001],\n",
              "                         &#x27;sgd_reg__penalty&#x27;: [&#x27;l1&#x27;, &#x27;l2&#x27;]},\n",
              "             refit=&#x27;neg_mean_squared_error&#x27;, return_train_score=True,\n",
              "             scoring={&#x27;neg_mean_absolute_error&#x27;: &#x27;neg_mean_absolute_error&#x27;,\n",
              "                      &#x27;neg_mean_squared_error&#x27;: &#x27;neg_mean_squared_error&#x27;})</pre><b>In a Jupyter environment, please rerun this cell to show the HTML representation or trust the notebook. <br />On GitHub, the HTML representation is unable to render, please try loading this page with nbviewer.org.</b></div><div class=\"sk-container\" hidden><div class=\"sk-item sk-dashed-wrapped\"><div class=\"sk-label-container\"><div class=\"sk-label sk-toggleable\"><input class=\"sk-toggleable__control sk-hidden--visually\" id=\"sk-estimator-id-4\" type=\"checkbox\" ><label for=\"sk-estimator-id-4\" class=\"sk-toggleable__label sk-toggleable__label-arrow\">GridSearchCV</label><div class=\"sk-toggleable__content\"><pre>GridSearchCV(cv=5,\n",
              "             estimator=Pipeline(steps=[(&#x27;std_scaler&#x27;, StandardScaler()),\n",
              "                                       (&#x27;poly&#x27;, PolynomialFeatures()),\n",
              "                                       (&#x27;sgd_reg&#x27;,\n",
              "                                        SGDRegressor(average=True,\n",
              "                                                     learning_rate=&#x27;adaptive&#x27;))]),\n",
              "             n_jobs=-1,\n",
              "             param_grid={&#x27;poly__degree&#x27;: [1, 2],\n",
              "                         &#x27;sgd_reg__alpha&#x27;: [0.0001, 0.001],\n",
              "                         &#x27;sgd_reg__penalty&#x27;: [&#x27;l1&#x27;, &#x27;l2&#x27;]},\n",
              "             refit=&#x27;neg_mean_squared_error&#x27;, return_train_score=True,\n",
              "             scoring={&#x27;neg_mean_absolute_error&#x27;: &#x27;neg_mean_absolute_error&#x27;,\n",
              "                      &#x27;neg_mean_squared_error&#x27;: &#x27;neg_mean_squared_error&#x27;})</pre></div></div></div><div class=\"sk-parallel\"><div class=\"sk-parallel-item\"><div class=\"sk-item\"><div class=\"sk-label-container\"><div class=\"sk-label sk-toggleable\"><input class=\"sk-toggleable__control sk-hidden--visually\" id=\"sk-estimator-id-5\" type=\"checkbox\" ><label for=\"sk-estimator-id-5\" class=\"sk-toggleable__label sk-toggleable__label-arrow\">estimator: Pipeline</label><div class=\"sk-toggleable__content\"><pre>Pipeline(steps=[(&#x27;std_scaler&#x27;, StandardScaler()),\n",
              "                (&#x27;poly&#x27;, PolynomialFeatures()),\n",
              "                (&#x27;sgd_reg&#x27;,\n",
              "                 SGDRegressor(average=True, learning_rate=&#x27;adaptive&#x27;))])</pre></div></div></div><div class=\"sk-serial\"><div class=\"sk-item\"><div class=\"sk-serial\"><div class=\"sk-item\"><div class=\"sk-estimator sk-toggleable\"><input class=\"sk-toggleable__control sk-hidden--visually\" id=\"sk-estimator-id-6\" type=\"checkbox\" ><label for=\"sk-estimator-id-6\" class=\"sk-toggleable__label sk-toggleable__label-arrow\">StandardScaler</label><div class=\"sk-toggleable__content\"><pre>StandardScaler()</pre></div></div></div><div class=\"sk-item\"><div class=\"sk-estimator sk-toggleable\"><input class=\"sk-toggleable__control sk-hidden--visually\" id=\"sk-estimator-id-7\" type=\"checkbox\" ><label for=\"sk-estimator-id-7\" class=\"sk-toggleable__label sk-toggleable__label-arrow\">PolynomialFeatures</label><div class=\"sk-toggleable__content\"><pre>PolynomialFeatures()</pre></div></div></div><div class=\"sk-item\"><div class=\"sk-estimator sk-toggleable\"><input class=\"sk-toggleable__control sk-hidden--visually\" id=\"sk-estimator-id-8\" type=\"checkbox\" ><label for=\"sk-estimator-id-8\" class=\"sk-toggleable__label sk-toggleable__label-arrow\">SGDRegressor</label><div class=\"sk-toggleable__content\"><pre>SGDRegressor(average=True, learning_rate=&#x27;adaptive&#x27;)</pre></div></div></div></div></div></div></div></div></div></div></div></div>"
            ]
          },
          "metadata": {},
          "execution_count": 42
        }
      ],
      "source": [
        "from sklearn.linear_model import SGDRegressor\n",
        "sgd = SGDRegressor()\n",
        "\n",
        "sgd_pipe = Pipeline([\n",
        "    ('std_scaler', StandardScaler()),\n",
        "    ('poly', PolynomialFeatures()),\n",
        "    ('sgd_reg', SGDRegressor(learning_rate = 'adaptive', eta0 = 1e-2, average = True))\n",
        "])\n",
        "\n",
        "param_grid = {'sgd_reg__penalty' : ['l1', 'l2'],\n",
        "              'sgd_reg__alpha' : [0.0001, 0.001],\n",
        "              'poly__degree' : [1,2]}\n",
        "\n",
        "scoring = {'neg_mean_squared_error' : 'neg_mean_squared_error',\n",
        "           'neg_mean_absolute_error' : 'neg_mean_absolute_error'}\n",
        "\n",
        "sgd_grid = GridSearchCV(sgd_pipe,\n",
        "                        param_grid,\n",
        "                        scoring = scoring,\n",
        "                        n_jobs = -1,\n",
        "                        refit = 'neg_mean_squared_error',\n",
        "                        cv = 5,\n",
        "                        return_train_score = True)\n",
        "\n",
        "sgd_grid.fit(X_train,y_train)"
      ]
    },
    {
      "cell_type": "code",
      "execution_count": null,
      "metadata": {
        "colab": {
          "base_uri": "https://localhost:8080/"
        },
        "id": "w6ArVhADMlD9",
        "outputId": "f18eb9a3-01f6-4714-8b66-89ef46172c7a"
      },
      "outputs": [
        {
          "output_type": "execute_result",
          "data": {
            "text/plain": [
              "{'poly__degree': 1, 'sgd_reg__alpha': 0.001, 'sgd_reg__penalty': 'l2'}"
            ]
          },
          "metadata": {},
          "execution_count": 43
        }
      ],
      "source": [
        "sgd_grid.best_params_"
      ]
    },
    {
      "cell_type": "code",
      "execution_count": null,
      "metadata": {
        "colab": {
          "base_uri": "https://localhost:8080/"
        },
        "id": "sinElh8OMrxS",
        "outputId": "6b4319e8-86e3-4ac8-dbeb-ee16c8184cca"
      },
      "outputs": [
        {
          "output_type": "stream",
          "name": "stdout",
          "text": [
            "Training score: 19.578524915642202\n",
            "Testing score: 18.787145524787416\n"
          ]
        }
      ],
      "source": [
        "from math import sqrt\n",
        "y_sgd_pred = sgd_grid.predict(X_test)\n",
        "print(f\"Training score:\", sqrt(-1*sgd_grid.score(X_train,y_train)))\n",
        "print(f\"Testing score:\", sqrt(-1*sgd_grid.score(X_test,y_test)))"
      ]
    },
    {
      "cell_type": "code",
      "execution_count": null,
      "metadata": {
        "colab": {
          "base_uri": "https://localhost:8080/"
        },
        "id": "BkEFBAsnZgg2",
        "outputId": "be25e542-52da-4702-8e28-062fd989f997"
      },
      "outputs": [
        {
          "output_type": "stream",
          "name": "stdout",
          "text": [
            "Testing R2 Score: 0.908453466334412\n"
          ]
        }
      ],
      "source": [
        "print(f\"Testing R2 Score: {r2_score(y_test, y_sgd_pred)}\")"
      ]
    },
    {
      "cell_type": "markdown",
      "metadata": {
        "id": "hnNP-3BpLwZS"
      },
      "source": [
        "## RidgeCV regressor"
      ]
    },
    {
      "cell_type": "code",
      "execution_count": null,
      "metadata": {
        "colab": {
          "base_uri": "https://localhost:8080/",
          "height": 150
        },
        "id": "iECkJGCOaVsR",
        "outputId": "272b1d34-fabb-4d74-8424-1394820d62ed"
      },
      "outputs": [
        {
          "output_type": "execute_result",
          "data": {
            "text/plain": [
              "GridSearchCV(estimator=Pipeline(steps=[('std_scaler', StandardScaler()),\n",
              "                                       ('ridge_reg', RidgeCV())]),\n",
              "             n_jobs=-1, param_grid={'ridge_reg__alphas': [0.01, 0.1, 5, 10]},\n",
              "             return_train_score=True, scoring='neg_root_mean_squared_error')"
            ],
            "text/html": [
              "<style>#sk-container-id-3 {color: black;background-color: white;}#sk-container-id-3 pre{padding: 0;}#sk-container-id-3 div.sk-toggleable {background-color: white;}#sk-container-id-3 label.sk-toggleable__label {cursor: pointer;display: block;width: 100%;margin-bottom: 0;padding: 0.3em;box-sizing: border-box;text-align: center;}#sk-container-id-3 label.sk-toggleable__label-arrow:before {content: \"▸\";float: left;margin-right: 0.25em;color: #696969;}#sk-container-id-3 label.sk-toggleable__label-arrow:hover:before {color: black;}#sk-container-id-3 div.sk-estimator:hover label.sk-toggleable__label-arrow:before {color: black;}#sk-container-id-3 div.sk-toggleable__content {max-height: 0;max-width: 0;overflow: hidden;text-align: left;background-color: #f0f8ff;}#sk-container-id-3 div.sk-toggleable__content pre {margin: 0.2em;color: black;border-radius: 0.25em;background-color: #f0f8ff;}#sk-container-id-3 input.sk-toggleable__control:checked~div.sk-toggleable__content {max-height: 200px;max-width: 100%;overflow: auto;}#sk-container-id-3 input.sk-toggleable__control:checked~label.sk-toggleable__label-arrow:before {content: \"▾\";}#sk-container-id-3 div.sk-estimator input.sk-toggleable__control:checked~label.sk-toggleable__label {background-color: #d4ebff;}#sk-container-id-3 div.sk-label input.sk-toggleable__control:checked~label.sk-toggleable__label {background-color: #d4ebff;}#sk-container-id-3 input.sk-hidden--visually {border: 0;clip: rect(1px 1px 1px 1px);clip: rect(1px, 1px, 1px, 1px);height: 1px;margin: -1px;overflow: hidden;padding: 0;position: absolute;width: 1px;}#sk-container-id-3 div.sk-estimator {font-family: monospace;background-color: #f0f8ff;border: 1px dotted black;border-radius: 0.25em;box-sizing: border-box;margin-bottom: 0.5em;}#sk-container-id-3 div.sk-estimator:hover {background-color: #d4ebff;}#sk-container-id-3 div.sk-parallel-item::after {content: \"\";width: 100%;border-bottom: 1px solid gray;flex-grow: 1;}#sk-container-id-3 div.sk-label:hover label.sk-toggleable__label {background-color: #d4ebff;}#sk-container-id-3 div.sk-serial::before {content: \"\";position: absolute;border-left: 1px solid gray;box-sizing: border-box;top: 0;bottom: 0;left: 50%;z-index: 0;}#sk-container-id-3 div.sk-serial {display: flex;flex-direction: column;align-items: center;background-color: white;padding-right: 0.2em;padding-left: 0.2em;position: relative;}#sk-container-id-3 div.sk-item {position: relative;z-index: 1;}#sk-container-id-3 div.sk-parallel {display: flex;align-items: stretch;justify-content: center;background-color: white;position: relative;}#sk-container-id-3 div.sk-item::before, #sk-container-id-3 div.sk-parallel-item::before {content: \"\";position: absolute;border-left: 1px solid gray;box-sizing: border-box;top: 0;bottom: 0;left: 50%;z-index: -1;}#sk-container-id-3 div.sk-parallel-item {display: flex;flex-direction: column;z-index: 1;position: relative;background-color: white;}#sk-container-id-3 div.sk-parallel-item:first-child::after {align-self: flex-end;width: 50%;}#sk-container-id-3 div.sk-parallel-item:last-child::after {align-self: flex-start;width: 50%;}#sk-container-id-3 div.sk-parallel-item:only-child::after {width: 0;}#sk-container-id-3 div.sk-dashed-wrapped {border: 1px dashed gray;margin: 0 0.4em 0.5em 0.4em;box-sizing: border-box;padding-bottom: 0.4em;background-color: white;}#sk-container-id-3 div.sk-label label {font-family: monospace;font-weight: bold;display: inline-block;line-height: 1.2em;}#sk-container-id-3 div.sk-label-container {text-align: center;}#sk-container-id-3 div.sk-container {/* jupyter's `normalize.less` sets `[hidden] { display: none; }` but bootstrap.min.css set `[hidden] { display: none !important; }` so we also need the `!important` here to be able to override the default hidden behavior on the sphinx rendered scikit-learn.org. See: https://github.com/scikit-learn/scikit-learn/issues/21755 */display: inline-block !important;position: relative;}#sk-container-id-3 div.sk-text-repr-fallback {display: none;}</style><div id=\"sk-container-id-3\" class=\"sk-top-container\"><div class=\"sk-text-repr-fallback\"><pre>GridSearchCV(estimator=Pipeline(steps=[(&#x27;std_scaler&#x27;, StandardScaler()),\n",
              "                                       (&#x27;ridge_reg&#x27;, RidgeCV())]),\n",
              "             n_jobs=-1, param_grid={&#x27;ridge_reg__alphas&#x27;: [0.01, 0.1, 5, 10]},\n",
              "             return_train_score=True, scoring=&#x27;neg_root_mean_squared_error&#x27;)</pre><b>In a Jupyter environment, please rerun this cell to show the HTML representation or trust the notebook. <br />On GitHub, the HTML representation is unable to render, please try loading this page with nbviewer.org.</b></div><div class=\"sk-container\" hidden><div class=\"sk-item sk-dashed-wrapped\"><div class=\"sk-label-container\"><div class=\"sk-label sk-toggleable\"><input class=\"sk-toggleable__control sk-hidden--visually\" id=\"sk-estimator-id-9\" type=\"checkbox\" ><label for=\"sk-estimator-id-9\" class=\"sk-toggleable__label sk-toggleable__label-arrow\">GridSearchCV</label><div class=\"sk-toggleable__content\"><pre>GridSearchCV(estimator=Pipeline(steps=[(&#x27;std_scaler&#x27;, StandardScaler()),\n",
              "                                       (&#x27;ridge_reg&#x27;, RidgeCV())]),\n",
              "             n_jobs=-1, param_grid={&#x27;ridge_reg__alphas&#x27;: [0.01, 0.1, 5, 10]},\n",
              "             return_train_score=True, scoring=&#x27;neg_root_mean_squared_error&#x27;)</pre></div></div></div><div class=\"sk-parallel\"><div class=\"sk-parallel-item\"><div class=\"sk-item\"><div class=\"sk-label-container\"><div class=\"sk-label sk-toggleable\"><input class=\"sk-toggleable__control sk-hidden--visually\" id=\"sk-estimator-id-10\" type=\"checkbox\" ><label for=\"sk-estimator-id-10\" class=\"sk-toggleable__label sk-toggleable__label-arrow\">estimator: Pipeline</label><div class=\"sk-toggleable__content\"><pre>Pipeline(steps=[(&#x27;std_scaler&#x27;, StandardScaler()), (&#x27;ridge_reg&#x27;, RidgeCV())])</pre></div></div></div><div class=\"sk-serial\"><div class=\"sk-item\"><div class=\"sk-serial\"><div class=\"sk-item\"><div class=\"sk-estimator sk-toggleable\"><input class=\"sk-toggleable__control sk-hidden--visually\" id=\"sk-estimator-id-11\" type=\"checkbox\" ><label for=\"sk-estimator-id-11\" class=\"sk-toggleable__label sk-toggleable__label-arrow\">StandardScaler</label><div class=\"sk-toggleable__content\"><pre>StandardScaler()</pre></div></div></div><div class=\"sk-item\"><div class=\"sk-estimator sk-toggleable\"><input class=\"sk-toggleable__control sk-hidden--visually\" id=\"sk-estimator-id-12\" type=\"checkbox\" ><label for=\"sk-estimator-id-12\" class=\"sk-toggleable__label sk-toggleable__label-arrow\">RidgeCV</label><div class=\"sk-toggleable__content\"><pre>RidgeCV()</pre></div></div></div></div></div></div></div></div></div></div></div></div>"
            ]
          },
          "metadata": {},
          "execution_count": 46
        }
      ],
      "source": [
        "from sklearn.linear_model import RidgeCV\n",
        "\n",
        "ridge_pipe = Pipeline([\n",
        "    ('std_scaler', StandardScaler()),\n",
        "    ('ridge_reg', RidgeCV(fit_intercept = True))\n",
        "])\n",
        "\n",
        "param_grid = {'ridge_reg__alphas' : [0.01,0.1,5,10]}\n",
        "ridge_grid = GridSearchCV(ridge_pipe,\n",
        "                          param_grid,\n",
        "                          scoring = \"neg_root_mean_squared_error\",\n",
        "                          refit = True,\n",
        "                          n_jobs = -1,\n",
        "                          return_train_score = True)\n",
        "ridge_grid.fit(X_train, y_train)"
      ]
    },
    {
      "cell_type": "code",
      "execution_count": null,
      "metadata": {
        "colab": {
          "base_uri": "https://localhost:8080/"
        },
        "id": "rCcyXt8VJpCj",
        "outputId": "2e58b905-4bab-4878-db4b-adf25ed59ed5"
      },
      "outputs": [
        {
          "output_type": "execute_result",
          "data": {
            "text/plain": [
              "{'ridge_reg__alphas': 5}"
            ]
          },
          "metadata": {},
          "execution_count": 47
        }
      ],
      "source": [
        "ridge_grid.best_params_"
      ]
    },
    {
      "cell_type": "code",
      "execution_count": null,
      "metadata": {
        "id": "_8VPqE_RKWGT"
      },
      "outputs": [],
      "source": [
        "y_ridge_pred = ridge_grid.predict(X_test)"
      ]
    },
    {
      "cell_type": "code",
      "execution_count": null,
      "metadata": {
        "colab": {
          "base_uri": "https://localhost:8080/"
        },
        "id": "_0Fu5Gu5J0-s",
        "outputId": "612c702c-01fc-42e3-f7a8-fb2270140b9e"
      },
      "outputs": [
        {
          "output_type": "stream",
          "name": "stdout",
          "text": [
            "Training score is : 4.4247325941254845\n",
            "Testing score is : 4.334385507956323\n"
          ]
        }
      ],
      "source": [
        "print(f\"Training score is : {sqrt(-1*ridge_grid.score(X_train,y_train))}\")\n",
        "print(f\"Testing score is : {sqrt(-1*ridge_grid.score(X_test,y_test))}\")"
      ]
    },
    {
      "cell_type": "markdown",
      "metadata": {
        "id": "N9SgzrOfl1P4"
      },
      "source": [
        "## Decision Tree Regressor"
      ]
    },
    {
      "cell_type": "code",
      "execution_count": null,
      "metadata": {
        "colab": {
          "base_uri": "https://localhost:8080/",
          "height": 150
        },
        "id": "jOZtpaJhl4bp",
        "outputId": "afb73a4b-4b46-49ea-c950-f6166a9ea1ce"
      },
      "outputs": [
        {
          "output_type": "execute_result",
          "data": {
            "text/plain": [
              "GridSearchCV(estimator=Pipeline(steps=[('scaler', StandardScaler()),\n",
              "                                       ('dtc_reg', DecisionTreeRegressor())]),\n",
              "             n_jobs=-1,\n",
              "             param_grid={'dtc_reg__criterion': ['squared_error',\n",
              "                                                'absolute_error'],\n",
              "                         'dtc_reg__max_depth': [2, 5, 8, 10],\n",
              "                         'dtc_reg__min_impurity_decrease': [0, 0.01, 0.1],\n",
              "                         'dtc_reg__min_samples_split': [2, 3, 4],\n",
              "                         'dtc_reg__splitter': ['best', 'random']},\n",
              "             return_train_score=True, scoring='neg_root_mean_squared_error')"
            ],
            "text/html": [
              "<style>#sk-container-id-4 {color: black;background-color: white;}#sk-container-id-4 pre{padding: 0;}#sk-container-id-4 div.sk-toggleable {background-color: white;}#sk-container-id-4 label.sk-toggleable__label {cursor: pointer;display: block;width: 100%;margin-bottom: 0;padding: 0.3em;box-sizing: border-box;text-align: center;}#sk-container-id-4 label.sk-toggleable__label-arrow:before {content: \"▸\";float: left;margin-right: 0.25em;color: #696969;}#sk-container-id-4 label.sk-toggleable__label-arrow:hover:before {color: black;}#sk-container-id-4 div.sk-estimator:hover label.sk-toggleable__label-arrow:before {color: black;}#sk-container-id-4 div.sk-toggleable__content {max-height: 0;max-width: 0;overflow: hidden;text-align: left;background-color: #f0f8ff;}#sk-container-id-4 div.sk-toggleable__content pre {margin: 0.2em;color: black;border-radius: 0.25em;background-color: #f0f8ff;}#sk-container-id-4 input.sk-toggleable__control:checked~div.sk-toggleable__content {max-height: 200px;max-width: 100%;overflow: auto;}#sk-container-id-4 input.sk-toggleable__control:checked~label.sk-toggleable__label-arrow:before {content: \"▾\";}#sk-container-id-4 div.sk-estimator input.sk-toggleable__control:checked~label.sk-toggleable__label {background-color: #d4ebff;}#sk-container-id-4 div.sk-label input.sk-toggleable__control:checked~label.sk-toggleable__label {background-color: #d4ebff;}#sk-container-id-4 input.sk-hidden--visually {border: 0;clip: rect(1px 1px 1px 1px);clip: rect(1px, 1px, 1px, 1px);height: 1px;margin: -1px;overflow: hidden;padding: 0;position: absolute;width: 1px;}#sk-container-id-4 div.sk-estimator {font-family: monospace;background-color: #f0f8ff;border: 1px dotted black;border-radius: 0.25em;box-sizing: border-box;margin-bottom: 0.5em;}#sk-container-id-4 div.sk-estimator:hover {background-color: #d4ebff;}#sk-container-id-4 div.sk-parallel-item::after {content: \"\";width: 100%;border-bottom: 1px solid gray;flex-grow: 1;}#sk-container-id-4 div.sk-label:hover label.sk-toggleable__label {background-color: #d4ebff;}#sk-container-id-4 div.sk-serial::before {content: \"\";position: absolute;border-left: 1px solid gray;box-sizing: border-box;top: 0;bottom: 0;left: 50%;z-index: 0;}#sk-container-id-4 div.sk-serial {display: flex;flex-direction: column;align-items: center;background-color: white;padding-right: 0.2em;padding-left: 0.2em;position: relative;}#sk-container-id-4 div.sk-item {position: relative;z-index: 1;}#sk-container-id-4 div.sk-parallel {display: flex;align-items: stretch;justify-content: center;background-color: white;position: relative;}#sk-container-id-4 div.sk-item::before, #sk-container-id-4 div.sk-parallel-item::before {content: \"\";position: absolute;border-left: 1px solid gray;box-sizing: border-box;top: 0;bottom: 0;left: 50%;z-index: -1;}#sk-container-id-4 div.sk-parallel-item {display: flex;flex-direction: column;z-index: 1;position: relative;background-color: white;}#sk-container-id-4 div.sk-parallel-item:first-child::after {align-self: flex-end;width: 50%;}#sk-container-id-4 div.sk-parallel-item:last-child::after {align-self: flex-start;width: 50%;}#sk-container-id-4 div.sk-parallel-item:only-child::after {width: 0;}#sk-container-id-4 div.sk-dashed-wrapped {border: 1px dashed gray;margin: 0 0.4em 0.5em 0.4em;box-sizing: border-box;padding-bottom: 0.4em;background-color: white;}#sk-container-id-4 div.sk-label label {font-family: monospace;font-weight: bold;display: inline-block;line-height: 1.2em;}#sk-container-id-4 div.sk-label-container {text-align: center;}#sk-container-id-4 div.sk-container {/* jupyter's `normalize.less` sets `[hidden] { display: none; }` but bootstrap.min.css set `[hidden] { display: none !important; }` so we also need the `!important` here to be able to override the default hidden behavior on the sphinx rendered scikit-learn.org. See: https://github.com/scikit-learn/scikit-learn/issues/21755 */display: inline-block !important;position: relative;}#sk-container-id-4 div.sk-text-repr-fallback {display: none;}</style><div id=\"sk-container-id-4\" class=\"sk-top-container\"><div class=\"sk-text-repr-fallback\"><pre>GridSearchCV(estimator=Pipeline(steps=[(&#x27;scaler&#x27;, StandardScaler()),\n",
              "                                       (&#x27;dtc_reg&#x27;, DecisionTreeRegressor())]),\n",
              "             n_jobs=-1,\n",
              "             param_grid={&#x27;dtc_reg__criterion&#x27;: [&#x27;squared_error&#x27;,\n",
              "                                                &#x27;absolute_error&#x27;],\n",
              "                         &#x27;dtc_reg__max_depth&#x27;: [2, 5, 8, 10],\n",
              "                         &#x27;dtc_reg__min_impurity_decrease&#x27;: [0, 0.01, 0.1],\n",
              "                         &#x27;dtc_reg__min_samples_split&#x27;: [2, 3, 4],\n",
              "                         &#x27;dtc_reg__splitter&#x27;: [&#x27;best&#x27;, &#x27;random&#x27;]},\n",
              "             return_train_score=True, scoring=&#x27;neg_root_mean_squared_error&#x27;)</pre><b>In a Jupyter environment, please rerun this cell to show the HTML representation or trust the notebook. <br />On GitHub, the HTML representation is unable to render, please try loading this page with nbviewer.org.</b></div><div class=\"sk-container\" hidden><div class=\"sk-item sk-dashed-wrapped\"><div class=\"sk-label-container\"><div class=\"sk-label sk-toggleable\"><input class=\"sk-toggleable__control sk-hidden--visually\" id=\"sk-estimator-id-13\" type=\"checkbox\" ><label for=\"sk-estimator-id-13\" class=\"sk-toggleable__label sk-toggleable__label-arrow\">GridSearchCV</label><div class=\"sk-toggleable__content\"><pre>GridSearchCV(estimator=Pipeline(steps=[(&#x27;scaler&#x27;, StandardScaler()),\n",
              "                                       (&#x27;dtc_reg&#x27;, DecisionTreeRegressor())]),\n",
              "             n_jobs=-1,\n",
              "             param_grid={&#x27;dtc_reg__criterion&#x27;: [&#x27;squared_error&#x27;,\n",
              "                                                &#x27;absolute_error&#x27;],\n",
              "                         &#x27;dtc_reg__max_depth&#x27;: [2, 5, 8, 10],\n",
              "                         &#x27;dtc_reg__min_impurity_decrease&#x27;: [0, 0.01, 0.1],\n",
              "                         &#x27;dtc_reg__min_samples_split&#x27;: [2, 3, 4],\n",
              "                         &#x27;dtc_reg__splitter&#x27;: [&#x27;best&#x27;, &#x27;random&#x27;]},\n",
              "             return_train_score=True, scoring=&#x27;neg_root_mean_squared_error&#x27;)</pre></div></div></div><div class=\"sk-parallel\"><div class=\"sk-parallel-item\"><div class=\"sk-item\"><div class=\"sk-label-container\"><div class=\"sk-label sk-toggleable\"><input class=\"sk-toggleable__control sk-hidden--visually\" id=\"sk-estimator-id-14\" type=\"checkbox\" ><label for=\"sk-estimator-id-14\" class=\"sk-toggleable__label sk-toggleable__label-arrow\">estimator: Pipeline</label><div class=\"sk-toggleable__content\"><pre>Pipeline(steps=[(&#x27;scaler&#x27;, StandardScaler()),\n",
              "                (&#x27;dtc_reg&#x27;, DecisionTreeRegressor())])</pre></div></div></div><div class=\"sk-serial\"><div class=\"sk-item\"><div class=\"sk-serial\"><div class=\"sk-item\"><div class=\"sk-estimator sk-toggleable\"><input class=\"sk-toggleable__control sk-hidden--visually\" id=\"sk-estimator-id-15\" type=\"checkbox\" ><label for=\"sk-estimator-id-15\" class=\"sk-toggleable__label sk-toggleable__label-arrow\">StandardScaler</label><div class=\"sk-toggleable__content\"><pre>StandardScaler()</pre></div></div></div><div class=\"sk-item\"><div class=\"sk-estimator sk-toggleable\"><input class=\"sk-toggleable__control sk-hidden--visually\" id=\"sk-estimator-id-16\" type=\"checkbox\" ><label for=\"sk-estimator-id-16\" class=\"sk-toggleable__label sk-toggleable__label-arrow\">DecisionTreeRegressor</label><div class=\"sk-toggleable__content\"><pre>DecisionTreeRegressor()</pre></div></div></div></div></div></div></div></div></div></div></div></div>"
            ]
          },
          "metadata": {},
          "execution_count": 51
        }
      ],
      "source": [
        "from sklearn.tree import DecisionTreeRegressor\n",
        "\n",
        "dtc_pipe = Pipeline([('scaler', StandardScaler()),\n",
        "                    ('dtc_reg', DecisionTreeRegressor())])\n",
        "\n",
        "param_grid = {'dtc_reg__max_depth' : [2,5,8,10],\n",
        "              'dtc_reg__min_samples_split' : [2,3,4],\n",
        "              'dtc_reg__criterion' : ['squared_error', 'absolute_error'],\n",
        "              'dtc_reg__splitter' : ['best', 'random'],\n",
        "              'dtc_reg__min_impurity_decrease' : [0, 0.01, 0.1]}\n",
        "\n",
        "dtc_grid = GridSearchCV(dtc_pipe,\n",
        "                        param_grid,\n",
        "                        scoring = 'neg_root_mean_squared_error',\n",
        "                        return_train_score = True,\n",
        "                        n_jobs = -1,\n",
        "                        refit = True)\n",
        "\n",
        "dtc_grid.fit(X_train, y_train)"
      ]
    },
    {
      "cell_type": "code",
      "execution_count": null,
      "metadata": {
        "colab": {
          "base_uri": "https://localhost:8080/"
        },
        "id": "zLhjkO24tEYZ",
        "outputId": "ac4679f8-252e-4ad9-fc53-8b03e12fedb8"
      },
      "outputs": [
        {
          "output_type": "execute_result",
          "data": {
            "text/plain": [
              "{'dtc_reg__criterion': 'squared_error',\n",
              " 'dtc_reg__max_depth': 10,\n",
              " 'dtc_reg__min_impurity_decrease': 0,\n",
              " 'dtc_reg__min_samples_split': 2,\n",
              " 'dtc_reg__splitter': 'best'}"
            ]
          },
          "metadata": {},
          "execution_count": 52
        }
      ],
      "source": [
        "dtc_grid.best_params_"
      ]
    },
    {
      "cell_type": "code",
      "execution_count": null,
      "metadata": {
        "colab": {
          "base_uri": "https://localhost:8080/"
        },
        "id": "Ftf5GCtgl4YX",
        "outputId": "1a1f5d4b-c74b-4e4c-dc69-9e746d2c1b55"
      },
      "outputs": [
        {
          "output_type": "stream",
          "name": "stdout",
          "text": [
            "The training score is:  1.4887362072116133\n",
            "The testing score is:  1.5526806285366603\n"
          ]
        }
      ],
      "source": [
        "y_dtc_pred = dtc_grid.predict(X_test)\n",
        "\n",
        "print(\"The training score is: \", sqrt(-1*dtc_grid.score(X_train, y_train)))\n",
        "print(\"The testing score is: \", sqrt(-1*dtc_grid.score(X_test,y_test)))"
      ]
    },
    {
      "cell_type": "code",
      "execution_count": null,
      "metadata": {
        "colab": {
          "base_uri": "https://localhost:8080/"
        },
        "id": "-6GwjVSfl4Tt",
        "outputId": "40e9d8e9-b5d9-411f-c86f-a089ebfe97cc"
      },
      "outputs": [
        {
          "output_type": "stream",
          "name": "stdout",
          "text": [
            "The r2 score is:  0.9984925294212588\n"
          ]
        }
      ],
      "source": [
        "print(\"The r2 score is: \", r2_score(y_test, y_dtc_pred))"
      ]
    },
    {
      "cell_type": "code",
      "execution_count": null,
      "metadata": {
        "colab": {
          "base_uri": "https://localhost:8080/",
          "height": 300
        },
        "id": "-vUD4rW_KINY",
        "outputId": "955624b7-dc67-47d0-d633-2343a3843cd4"
      },
      "outputs": [
        {
          "output_type": "execute_result",
          "data": {
            "text/plain": [
              "                    Features  Importance\n",
              "6      comb_fuel_cons_rating        0.84\n",
              "7  comb_fuel_cons_rating_mpg        0.10\n",
              "3                  fuel_type        0.05\n",
              "1                engine_size        0.00\n",
              "4      city_fuel_cons_rating        0.00\n",
              "5        hw_fuel_cons_rating        0.00\n",
              "0                      class        0.00\n",
              "2                  cylinders        0.00"
            ],
            "text/html": [
              "\n",
              "  <div id=\"df-c11a94fd-d00e-45ed-97dd-9650e42e6017\" class=\"colab-df-container\">\n",
              "    <div>\n",
              "<style scoped>\n",
              "    .dataframe tbody tr th:only-of-type {\n",
              "        vertical-align: middle;\n",
              "    }\n",
              "\n",
              "    .dataframe tbody tr th {\n",
              "        vertical-align: top;\n",
              "    }\n",
              "\n",
              "    .dataframe thead th {\n",
              "        text-align: right;\n",
              "    }\n",
              "</style>\n",
              "<table border=\"1\" class=\"dataframe\">\n",
              "  <thead>\n",
              "    <tr style=\"text-align: right;\">\n",
              "      <th></th>\n",
              "      <th>Features</th>\n",
              "      <th>Importance</th>\n",
              "    </tr>\n",
              "  </thead>\n",
              "  <tbody>\n",
              "    <tr>\n",
              "      <th>6</th>\n",
              "      <td>comb_fuel_cons_rating</td>\n",
              "      <td>0.84</td>\n",
              "    </tr>\n",
              "    <tr>\n",
              "      <th>7</th>\n",
              "      <td>comb_fuel_cons_rating_mpg</td>\n",
              "      <td>0.10</td>\n",
              "    </tr>\n",
              "    <tr>\n",
              "      <th>3</th>\n",
              "      <td>fuel_type</td>\n",
              "      <td>0.05</td>\n",
              "    </tr>\n",
              "    <tr>\n",
              "      <th>1</th>\n",
              "      <td>engine_size</td>\n",
              "      <td>0.00</td>\n",
              "    </tr>\n",
              "    <tr>\n",
              "      <th>4</th>\n",
              "      <td>city_fuel_cons_rating</td>\n",
              "      <td>0.00</td>\n",
              "    </tr>\n",
              "    <tr>\n",
              "      <th>5</th>\n",
              "      <td>hw_fuel_cons_rating</td>\n",
              "      <td>0.00</td>\n",
              "    </tr>\n",
              "    <tr>\n",
              "      <th>0</th>\n",
              "      <td>class</td>\n",
              "      <td>0.00</td>\n",
              "    </tr>\n",
              "    <tr>\n",
              "      <th>2</th>\n",
              "      <td>cylinders</td>\n",
              "      <td>0.00</td>\n",
              "    </tr>\n",
              "  </tbody>\n",
              "</table>\n",
              "</div>\n",
              "    <div class=\"colab-df-buttons\">\n",
              "\n",
              "  <div class=\"colab-df-container\">\n",
              "    <button class=\"colab-df-convert\" onclick=\"convertToInteractive('df-c11a94fd-d00e-45ed-97dd-9650e42e6017')\"\n",
              "            title=\"Convert this dataframe to an interactive table.\"\n",
              "            style=\"display:none;\">\n",
              "\n",
              "  <svg xmlns=\"http://www.w3.org/2000/svg\" height=\"24px\" viewBox=\"0 -960 960 960\">\n",
              "    <path d=\"M120-120v-720h720v720H120Zm60-500h600v-160H180v160Zm220 220h160v-160H400v160Zm0 220h160v-160H400v160ZM180-400h160v-160H180v160Zm440 0h160v-160H620v160ZM180-180h160v-160H180v160Zm440 0h160v-160H620v160Z\"/>\n",
              "  </svg>\n",
              "    </button>\n",
              "\n",
              "  <style>\n",
              "    .colab-df-container {\n",
              "      display:flex;\n",
              "      gap: 12px;\n",
              "    }\n",
              "\n",
              "    .colab-df-convert {\n",
              "      background-color: #E8F0FE;\n",
              "      border: none;\n",
              "      border-radius: 50%;\n",
              "      cursor: pointer;\n",
              "      display: none;\n",
              "      fill: #1967D2;\n",
              "      height: 32px;\n",
              "      padding: 0 0 0 0;\n",
              "      width: 32px;\n",
              "    }\n",
              "\n",
              "    .colab-df-convert:hover {\n",
              "      background-color: #E2EBFA;\n",
              "      box-shadow: 0px 1px 2px rgba(60, 64, 67, 0.3), 0px 1px 3px 1px rgba(60, 64, 67, 0.15);\n",
              "      fill: #174EA6;\n",
              "    }\n",
              "\n",
              "    .colab-df-buttons div {\n",
              "      margin-bottom: 4px;\n",
              "    }\n",
              "\n",
              "    [theme=dark] .colab-df-convert {\n",
              "      background-color: #3B4455;\n",
              "      fill: #D2E3FC;\n",
              "    }\n",
              "\n",
              "    [theme=dark] .colab-df-convert:hover {\n",
              "      background-color: #434B5C;\n",
              "      box-shadow: 0px 1px 3px 1px rgba(0, 0, 0, 0.15);\n",
              "      filter: drop-shadow(0px 1px 2px rgba(0, 0, 0, 0.3));\n",
              "      fill: #FFFFFF;\n",
              "    }\n",
              "  </style>\n",
              "\n",
              "    <script>\n",
              "      const buttonEl =\n",
              "        document.querySelector('#df-c11a94fd-d00e-45ed-97dd-9650e42e6017 button.colab-df-convert');\n",
              "      buttonEl.style.display =\n",
              "        google.colab.kernel.accessAllowed ? 'block' : 'none';\n",
              "\n",
              "      async function convertToInteractive(key) {\n",
              "        const element = document.querySelector('#df-c11a94fd-d00e-45ed-97dd-9650e42e6017');\n",
              "        const dataTable =\n",
              "          await google.colab.kernel.invokeFunction('convertToInteractive',\n",
              "                                                    [key], {});\n",
              "        if (!dataTable) return;\n",
              "\n",
              "        const docLinkHtml = 'Like what you see? Visit the ' +\n",
              "          '<a target=\"_blank\" href=https://colab.research.google.com/notebooks/data_table.ipynb>data table notebook</a>'\n",
              "          + ' to learn more about interactive tables.';\n",
              "        element.innerHTML = '';\n",
              "        dataTable['output_type'] = 'display_data';\n",
              "        await google.colab.output.renderOutput(dataTable, element);\n",
              "        const docLink = document.createElement('div');\n",
              "        docLink.innerHTML = docLinkHtml;\n",
              "        element.appendChild(docLink);\n",
              "      }\n",
              "    </script>\n",
              "  </div>\n",
              "\n",
              "\n",
              "<div id=\"df-a66b76da-2061-42fa-b39c-6317ffec850a\">\n",
              "  <button class=\"colab-df-quickchart\" onclick=\"quickchart('df-a66b76da-2061-42fa-b39c-6317ffec850a')\"\n",
              "            title=\"Suggest charts\"\n",
              "            style=\"display:none;\">\n",
              "\n",
              "<svg xmlns=\"http://www.w3.org/2000/svg\" height=\"24px\"viewBox=\"0 0 24 24\"\n",
              "     width=\"24px\">\n",
              "    <g>\n",
              "        <path d=\"M19 3H5c-1.1 0-2 .9-2 2v14c0 1.1.9 2 2 2h14c1.1 0 2-.9 2-2V5c0-1.1-.9-2-2-2zM9 17H7v-7h2v7zm4 0h-2V7h2v10zm4 0h-2v-4h2v4z\"/>\n",
              "    </g>\n",
              "</svg>\n",
              "  </button>\n",
              "\n",
              "<style>\n",
              "  .colab-df-quickchart {\n",
              "      --bg-color: #E8F0FE;\n",
              "      --fill-color: #1967D2;\n",
              "      --hover-bg-color: #E2EBFA;\n",
              "      --hover-fill-color: #174EA6;\n",
              "      --disabled-fill-color: #AAA;\n",
              "      --disabled-bg-color: #DDD;\n",
              "  }\n",
              "\n",
              "  [theme=dark] .colab-df-quickchart {\n",
              "      --bg-color: #3B4455;\n",
              "      --fill-color: #D2E3FC;\n",
              "      --hover-bg-color: #434B5C;\n",
              "      --hover-fill-color: #FFFFFF;\n",
              "      --disabled-bg-color: #3B4455;\n",
              "      --disabled-fill-color: #666;\n",
              "  }\n",
              "\n",
              "  .colab-df-quickchart {\n",
              "    background-color: var(--bg-color);\n",
              "    border: none;\n",
              "    border-radius: 50%;\n",
              "    cursor: pointer;\n",
              "    display: none;\n",
              "    fill: var(--fill-color);\n",
              "    height: 32px;\n",
              "    padding: 0;\n",
              "    width: 32px;\n",
              "  }\n",
              "\n",
              "  .colab-df-quickchart:hover {\n",
              "    background-color: var(--hover-bg-color);\n",
              "    box-shadow: 0 1px 2px rgba(60, 64, 67, 0.3), 0 1px 3px 1px rgba(60, 64, 67, 0.15);\n",
              "    fill: var(--button-hover-fill-color);\n",
              "  }\n",
              "\n",
              "  .colab-df-quickchart-complete:disabled,\n",
              "  .colab-df-quickchart-complete:disabled:hover {\n",
              "    background-color: var(--disabled-bg-color);\n",
              "    fill: var(--disabled-fill-color);\n",
              "    box-shadow: none;\n",
              "  }\n",
              "\n",
              "  .colab-df-spinner {\n",
              "    border: 2px solid var(--fill-color);\n",
              "    border-color: transparent;\n",
              "    border-bottom-color: var(--fill-color);\n",
              "    animation:\n",
              "      spin 1s steps(1) infinite;\n",
              "  }\n",
              "\n",
              "  @keyframes spin {\n",
              "    0% {\n",
              "      border-color: transparent;\n",
              "      border-bottom-color: var(--fill-color);\n",
              "      border-left-color: var(--fill-color);\n",
              "    }\n",
              "    20% {\n",
              "      border-color: transparent;\n",
              "      border-left-color: var(--fill-color);\n",
              "      border-top-color: var(--fill-color);\n",
              "    }\n",
              "    30% {\n",
              "      border-color: transparent;\n",
              "      border-left-color: var(--fill-color);\n",
              "      border-top-color: var(--fill-color);\n",
              "      border-right-color: var(--fill-color);\n",
              "    }\n",
              "    40% {\n",
              "      border-color: transparent;\n",
              "      border-right-color: var(--fill-color);\n",
              "      border-top-color: var(--fill-color);\n",
              "    }\n",
              "    60% {\n",
              "      border-color: transparent;\n",
              "      border-right-color: var(--fill-color);\n",
              "    }\n",
              "    80% {\n",
              "      border-color: transparent;\n",
              "      border-right-color: var(--fill-color);\n",
              "      border-bottom-color: var(--fill-color);\n",
              "    }\n",
              "    90% {\n",
              "      border-color: transparent;\n",
              "      border-bottom-color: var(--fill-color);\n",
              "    }\n",
              "  }\n",
              "</style>\n",
              "\n",
              "  <script>\n",
              "    async function quickchart(key) {\n",
              "      const quickchartButtonEl =\n",
              "        document.querySelector('#' + key + ' button');\n",
              "      quickchartButtonEl.disabled = true;  // To prevent multiple clicks.\n",
              "      quickchartButtonEl.classList.add('colab-df-spinner');\n",
              "      try {\n",
              "        const charts = await google.colab.kernel.invokeFunction(\n",
              "            'suggestCharts', [key], {});\n",
              "      } catch (error) {\n",
              "        console.error('Error during call to suggestCharts:', error);\n",
              "      }\n",
              "      quickchartButtonEl.classList.remove('colab-df-spinner');\n",
              "      quickchartButtonEl.classList.add('colab-df-quickchart-complete');\n",
              "    }\n",
              "    (() => {\n",
              "      let quickchartButtonEl =\n",
              "        document.querySelector('#df-a66b76da-2061-42fa-b39c-6317ffec850a button');\n",
              "      quickchartButtonEl.style.display =\n",
              "        google.colab.kernel.accessAllowed ? 'block' : 'none';\n",
              "    })();\n",
              "  </script>\n",
              "</div>\n",
              "    </div>\n",
              "  </div>\n"
            ],
            "application/vnd.google.colaboratory.intrinsic+json": {
              "type": "dataframe",
              "variable_name": "feature_imp_df",
              "summary": "{\n  \"name\": \"feature_imp_df\",\n  \"rows\": 8,\n  \"fields\": [\n    {\n      \"column\": \"Features\",\n      \"properties\": {\n        \"dtype\": \"string\",\n        \"num_unique_values\": 8,\n        \"samples\": [\n          \"comb_fuel_cons_rating_mpg\",\n          \"hw_fuel_cons_rating\",\n          \"comb_fuel_cons_rating\"\n        ],\n        \"semantic_type\": \"\",\n        \"description\": \"\"\n      }\n    },\n    {\n      \"column\": \"Importance\",\n      \"properties\": {\n        \"dtype\": \"number\",\n        \"std\": 0.2920509725778305,\n        \"min\": 4.129543021782368e-05,\n        \"max\": 0.8419372855828595,\n        \"num_unique_values\": 8,\n        \"samples\": [\n          0.10126997042309978,\n          0.00019715197517055302,\n          0.8419372855828595\n        ],\n        \"semantic_type\": \"\",\n        \"description\": \"\"\n      }\n    }\n  ]\n}"
            }
          },
          "metadata": {},
          "execution_count": 55
        }
      ],
      "source": [
        "best_model = dtc_grid.best_estimator_\n",
        "best_dtc = best_model[-1]\n",
        "\n",
        "importances = best_dtc.feature_importances_\n",
        "feature_imp_df = pd.DataFrame({\n",
        "    'Features' : X_train.columns,\n",
        "    'Importance' : importances\n",
        "})\n",
        "\n",
        "feature_imp_df = feature_imp_df.sort_values(by = 'Importance', ascending = False)\n",
        "\n",
        "feature_imp_df"
      ]
    },
    {
      "cell_type": "markdown",
      "source": [
        "Conclusion\n",
        "\n",
        "Key Features: The comb_fuel_cons_rating is the most important feature, followed by comb_fuel_cons_rating_mpg and fuel_type. This aligns with the understanding that fuel consumption metrics are crucial in determining CO2 emissions.\n",
        "\n",
        "Less Influential Features: Features like engine_size, city_fuel_cons_rating, hw_fuel_cons_rating, class, and cylinders are not significant in the decision tree model for predicting CO2 emissions.\n",
        "\n",
        "Model Focus: The model relies heavily on fuel consumption ratings, indicating that these metrics are strong predictors of CO2 emissions for lightweight vehicles.\n"
      ],
      "metadata": {
        "id": "ulap8jzcGdnJ"
      }
    }
  ],
  "metadata": {
    "colab": {
      "provenance": [],
      "toc_visible": true
    },
    "kernelspec": {
      "display_name": "Python 3",
      "name": "python3"
    },
    "language_info": {
      "name": "python"
    }
  },
  "nbformat": 4,
  "nbformat_minor": 0
}